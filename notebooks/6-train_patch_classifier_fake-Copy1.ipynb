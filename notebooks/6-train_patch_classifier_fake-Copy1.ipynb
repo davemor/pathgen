{
 "cells": [
  {
   "cell_type": "code",
   "execution_count": 1,
   "metadata": {},
   "outputs": [],
   "source": [
    "from pathgen.utils.seeds import set_seed\n",
    "from pathgen.utils.paths import project_root\n",
    "\n",
    "experiment_name = \"all\"\n",
    "experiment_root = project_root() / \"experiments\" / experiment_name\n",
    "\n",
    "global_seed = 123\n",
    "set_seed(global_seed)"
   ]
  },
  {
   "cell_type": "code",
   "execution_count": 2,
   "metadata": {},
   "outputs": [],
   "source": [
    "import numpy as np\n",
    "import pandas as pd\n",
    "import pytorch_lightning as pl\n",
    "from pytorch_lightning.callbacks import ModelCheckpoint\n",
    "from torch.utils.data import DataLoader\n",
    "from torchvision.datasets import ImageFolder\n",
    "import torch\n",
    "from torch import nn\n",
    "import torch.nn.functional as F\n",
    "from pytorch_lightning.metrics import Accuracy\n",
    "\n",
    "def accuracy(logits, y):\n",
    "    # pred = torch.log_softmax(logits, dim=1)\n",
    "    # correct = pred.argmax(dim=1).eq(y).sum().item()\n",
    "    correct = logits.argmax(dim=1).eq(y).sum().item()\n",
    "    total = len(y)\n",
    "    accu = correct / total\n",
    "    return accu\n",
    "\n",
    "\n",
    "class PatchClassifier(pl.LightningModule):\n",
    "    def __init__(self, model, learning_rate=2e-4) -> None:\n",
    "        super().__init__()\n",
    "        self.model = model\n",
    "        #self.accuracy = Accuracy()\n",
    "        # self.accuracy = accuracy\n",
    "        \n",
    "        # log hyperparameters\n",
    "        # self.save_hyperparameters()\n",
    "        self.learning_rate = learning_rate\n",
    "        self.test_pred = []\n",
    "        self.test_y = []\n",
    "\n",
    "    def training_step(self, batch, batch_idx):\n",
    "        x, y = batch\n",
    "        logits = self.model(x)\n",
    "        loss = F.nll_loss(logits, y)\n",
    "        \n",
    "        # training metrics\n",
    "        acc = accuracy(logits, y)\n",
    "        self.log('train_loss', loss, prog_bar=True, on_epoch=True, on_step=False)\n",
    "        self.log('train_acc', acc, prog_bar=True, on_epoch=True, on_step=False)\n",
    "        return loss\n",
    "    \n",
    "    def validation_step(self, batch, batch_idx):\n",
    "        x, y = batch\n",
    "        logits = self.model(x)\n",
    "        loss = F.nll_loss(logits, y)\n",
    "        \n",
    "        # training metrics\n",
    "        acc = accuracy(logits, y)\n",
    "        self.log('val_loss', loss, prog_bar=False, on_epoch=True, on_step=False)\n",
    "        self.log('val_acc', acc, prog_bar=True, on_epoch=True, on_step=False)\n",
    "        return loss\n",
    "    \n",
    "    def test_step(self, batch, batch_idx):\n",
    "        x, y = batch\n",
    "        logits = self.model(x)\n",
    "        loss = F.nll_loss(logits, y)\n",
    "        \n",
    "        # log the results so we can compute epoch wide metrics\n",
    "        pred = logits.argmax(dim=1)\n",
    "        pred_list = pred.cpu().numpy().tolist()\n",
    "        #print(pred_list)\n",
    "        y_list = y.cpu().numpy().tolist()\n",
    "        #print(y_list)\n",
    "        self.test_pred.append(pred_list)\n",
    "        self.test_y.append(y_list)\n",
    "        \n",
    "        # training metrics\n",
    "        acc = accuracy(logits, y)\n",
    "        self.log('test_loss', loss, prog_bar=True)\n",
    "        self.log('test_acc', acc, prog_bar=True)\n",
    "        return loss\n",
    "\n",
    "    def configure_optimizers(self):\n",
    "        optimizer = torch.optim.SGD(self.model.parameters(), \n",
    "                                    lr=0.001, \n",
    "                                    momentum=0.9, \n",
    "                                    weight_decay=0.0005)\n",
    "        scheduler = {\n",
    "            'scheduler': torch.optim.lr_scheduler.StepLR(optimizer, step_size=2000, gamma=0.5),\n",
    "            'interval': 'step' \n",
    "        }\n",
    "        return [optimizer], [scheduler]\n",
    "    \n",
    "    #def configure_optimizers(self):\n",
    "     #  optimizer = torch.optim.Adam(self.parameters(), lr=self.learning_rate)\n",
    "        #return optimizer    "
   ]
  },
  {
   "cell_type": "code",
   "execution_count": 3,
   "metadata": {},
   "outputs": [
    {
     "name": "stdout",
     "output_type": "stream",
     "text": [
      "200704\n",
      "56 56 64\n"
     ]
    }
   ],
   "source": [
    "\n",
    "in_channels = 3\n",
    "number_of_filters = 32\n",
    "kernel_size = 3\n",
    "stride = 1\n",
    "\n",
    "def conv2d_output_size(w, h, in_channels, number_of_filters, kernel_size, stride, padding=0):\n",
    "    out_width = int((w - kernel_size + 2*padding)/stride + 1)\n",
    "    out_height = int((h - kernel_size + 2*padding)/stride + 1)\n",
    "    out_channels = number_of_filters\n",
    "    return out_width, out_height, out_channels\n",
    "\n",
    "w2, h2, d2 = conv2d_output_size(64, 64, 3, 32, 3, 1, 0)\n",
    "w3, h3, d3 = conv2d_output_size(w2, h2, d2, 32, 3, 1, 0)\n",
    "w4, h4, d4 = conv2d_output_size(w3, h3, d3, 64, 3, 1, 0)\n",
    "wo, ho, do = conv2d_output_size(w4, h4, d4, 64, 3, 1, 0)\n",
    "print(wo * ho * do)\n",
    "print(wo, ho, do)"
   ]
  },
  {
   "cell_type": "code",
   "execution_count": 4,
   "metadata": {},
   "outputs": [],
   "source": [
    "import torch\n",
    "from torch import nn\n",
    "import torch.nn.functional as F\n",
    "\n",
    "class Backbone(nn.Module):\n",
    "    def __init__(self, input_shape, num_classes):\n",
    "        super().__init__()\n",
    "        self.conv1 = nn.Conv2d(3, 32, 3, 1)\n",
    "        self.conv2 = nn.Conv2d(32, 32, 3, 1)\n",
    "        self.conv3 = nn.Conv2d(32, 64, 3, 1)\n",
    "        self.conv4 = nn.Conv2d(64, 64, 3, 1)\n",
    "\n",
    "        self.pool1 = torch.nn.MaxPool2d(2)\n",
    "        self.pool2 = torch.nn.MaxPool2d(2)\n",
    "        \n",
    "        n_sizes = self._get_conv_output(input_shape)\n",
    "        print(n_sizes)\n",
    "        \n",
    "        self.fc1 = nn.Linear(n_sizes, 512)\n",
    "        self.fc2 = nn.Linear(512, 128)\n",
    "        self.fc3 = nn.Linear(128, num_classes)\n",
    "\n",
    "    # returns the size of the output tensor going into Linear layer from the conv block.\n",
    "    def _get_conv_output(self, shape):\n",
    "        batch_size = 1\n",
    "        input = torch.autograd.Variable(torch.rand(batch_size, *shape))\n",
    "\n",
    "        output_feat = self._forward_features(input) \n",
    "        n_size = output_feat.data.view(batch_size, -1).size(1)\n",
    "        return n_size\n",
    "        \n",
    "    # returns the feature tensor from the conv block\n",
    "    def _forward_features(self, x):\n",
    "        x = F.relu(self.conv1(x))\n",
    "        x = self.pool1(F.relu(self.conv2(x)))\n",
    "        x = F.relu(self.conv3(x))\n",
    "        x = self.pool2(F.relu(self.conv4(x)))\n",
    "        return x\n",
    "    \n",
    "    # will be used during inference\n",
    "    def forward(self, x):\n",
    "       x = self._forward_features(x)\n",
    "       x = x.view(x.size(0), -1)\n",
    "       x = F.relu(self.fc1(x))\n",
    "       x = F.relu(self.fc2(x))\n",
    "       x = F.log_softmax(self.fc3(x), dim=1)\n",
    "       \n",
    "       return x"
   ]
  },
  {
   "cell_type": "code",
   "execution_count": 5,
   "metadata": {},
   "outputs": [
    {
     "name": "stderr",
     "output_type": "stream",
     "text": [
      "/home/ubuntu/anaconda3/envs/pathgen/lib/python3.6/site-packages/pytorch_lightning/utilities/distributed.py:51: UserWarning: Checkpoint directory /home/ubuntu/pathgen/experiments/all/patch_model exists and is not empty.\n",
      "  warnings.warn(*args, **kwargs)\n",
      "GPU available: True, used: True\n",
      "TPU available: None, using: 0 TPU cores\n"
     ]
    },
    {
     "name": "stdout",
     "output_type": "stream",
     "text": [
      "10816\n"
     ]
    },
    {
     "name": "stderr",
     "output_type": "stream",
     "text": [
      "/home/ubuntu/anaconda3/envs/pathgen/lib/python3.6/site-packages/pytorch_lightning/utilities/distributed.py:51: UserWarning: Experiment logs directory /home/ubuntu/pathgen/experiments/all/logs/patch_classifier_fake/version_0 exists and is not empty. Previous log files in this directory will be deleted when the new ones are saved!\n",
      "  warnings.warn(*args, **kwargs)\n",
      "\n",
      "  | Name  | Type     | Params\n",
      "-----------------------------------\n",
      "0 | model | Backbone | 5.7 M \n",
      "-----------------------------------\n",
      "5.7 M     Trainable params\n",
      "0         Non-trainable params\n",
      "5.7 M     Total params\n",
      "22.679    Total estimated model params size (MB)\n"
     ]
    },
    {
     "name": "stdout",
     "output_type": "stream",
     "text": [
      "Validation sanity check:   0%|          | 0/2 [00:00<?, ?it/s]"
     ]
    },
    {
     "name": "stderr",
     "output_type": "stream",
     "text": [
      "/home/ubuntu/anaconda3/envs/pathgen/lib/python3.6/site-packages/pytorch_lightning/utilities/distributed.py:51: UserWarning: Your val_dataloader has `shuffle=True`, it is best practice to turn this off for validation and test dataloaders.\n",
      "  warnings.warn(*args, **kwargs)\n"
     ]
    },
    {
     "name": "stdout",
     "output_type": "stream",
     "text": [
      "Epoch 0:  70%|███████   | 548/782 [00:11<00:04, 47.55it/s, loss=0.691, v_num=0, val_acc=0.488]\n",
      "Validating: 0it [00:00, ?it/s]\u001b[A\n",
      "Validating:   0%|          | 0/235 [00:00<?, ?it/s]\u001b[A\n",
      "Epoch 0:  71%|███████   | 555/782 [00:13<00:05, 41.10it/s, loss=0.691, v_num=0, val_acc=0.488]\n",
      "Epoch 0:  73%|███████▎  | 572/782 [00:13<00:04, 42.04it/s, loss=0.691, v_num=0, val_acc=0.488]\n",
      "Epoch 0:  75%|███████▌  | 589/782 [00:14<00:04, 41.73it/s, loss=0.691, v_num=0, val_acc=0.488]\n",
      "Epoch 0:  77%|███████▋  | 606/782 [00:14<00:04, 42.63it/s, loss=0.691, v_num=0, val_acc=0.488]\n",
      "Validating:  26%|██▌       | 60/235 [00:02<00:04, 39.02it/s]\u001b[A\n",
      "Epoch 0:  80%|███████▉  | 623/782 [00:14<00:03, 42.08it/s, loss=0.691, v_num=0, val_acc=0.488]\n",
      "Epoch 0:  82%|████████▏ | 640/782 [00:14<00:03, 42.88it/s, loss=0.691, v_num=0, val_acc=0.488]\n",
      "Epoch 0:  84%|████████▍ | 657/782 [00:15<00:02, 42.85it/s, loss=0.691, v_num=0, val_acc=0.488]\n",
      "Epoch 0:  86%|████████▌ | 674/782 [00:15<00:02, 43.65it/s, loss=0.691, v_num=0, val_acc=0.488]\n",
      "Epoch 0:  88%|████████▊ | 691/782 [00:15<00:02, 43.69it/s, loss=0.691, v_num=0, val_acc=0.488]\n",
      "Epoch 0:  91%|█████████ | 708/782 [00:15<00:01, 44.46it/s, loss=0.691, v_num=0, val_acc=0.488]\n",
      "Epoch 0:  93%|█████████▎| 725/782 [00:16<00:01, 44.56it/s, loss=0.691, v_num=0, val_acc=0.488]\n",
      "Validating:  76%|███████▌  | 178/235 [00:04<00:00, 71.42it/s]\u001b[A\n",
      "Epoch 0:  95%|█████████▍| 742/782 [00:16<00:00, 44.67it/s, loss=0.691, v_num=0, val_acc=0.488]\n",
      "Epoch 0:  97%|█████████▋| 761/782 [00:16<00:00, 45.53it/s, loss=0.691, v_num=0, val_acc=0.488]\n",
      "Epoch 0: 100%|██████████| 782/782 [00:17<00:00, 45.62it/s, loss=0.691, v_num=0, val_acc=0.569, train_loss=0.692, train_acc=0.560]\n",
      "Epoch 1:  70%|██████▉   | 547/782 [00:11<00:04, 47.40it/s, loss=0.679, v_num=0, val_acc=0.569, train_loss=0.692, train_acc=0.560]\n",
      "Validating: 0it [00:00, ?it/s]\u001b[A\n",
      "Validating:   0%|          | 0/235 [00:00<?, ?it/s]\u001b[A\n",
      "Epoch 1:  70%|███████   | 551/782 [00:13<00:05, 40.55it/s, loss=0.679, v_num=0, val_acc=0.569, train_loss=0.692, train_acc=0.560]\n",
      "Epoch 1:  73%|███████▎  | 570/782 [00:13<00:05, 41.58it/s, loss=0.679, v_num=0, val_acc=0.569, train_loss=0.692, train_acc=0.560]\n",
      "Epoch 1:  75%|███████▌  | 589/782 [00:14<00:04, 41.65it/s, loss=0.679, v_num=0, val_acc=0.569, train_loss=0.692, train_acc=0.560]\n",
      "Epoch 1:  78%|███████▊  | 608/782 [00:14<00:04, 42.65it/s, loss=0.679, v_num=0, val_acc=0.569, train_loss=0.692, train_acc=0.560]\n",
      "Epoch 1:  80%|████████  | 627/782 [00:14<00:03, 42.55it/s, loss=0.679, v_num=0, val_acc=0.569, train_loss=0.692, train_acc=0.560]\n",
      "Validating:  35%|███▍      | 82/235 [00:03<00:03, 46.87it/s]\u001b[A\n",
      "Epoch 1:  83%|████████▎ | 646/782 [00:15<00:03, 42.50it/s, loss=0.679, v_num=0, val_acc=0.569, train_loss=0.692, train_acc=0.560]\n",
      "Epoch 1:  85%|████████▌ | 665/782 [00:15<00:02, 43.34it/s, loss=0.679, v_num=0, val_acc=0.569, train_loss=0.692, train_acc=0.560]\n",
      "Validating:  53%|█████▎    | 124/235 [00:03<00:01, 63.35it/s]\u001b[A\n",
      "Epoch 1:  87%|████████▋ | 684/782 [00:15<00:02, 43.28it/s, loss=0.679, v_num=0, val_acc=0.569, train_loss=0.692, train_acc=0.560]\n",
      "Epoch 1:  90%|████████▉ | 703/782 [00:15<00:01, 44.17it/s, loss=0.679, v_num=0, val_acc=0.569, train_loss=0.692, train_acc=0.560]\n",
      "Epoch 1:  92%|█████████▏| 722/782 [00:16<00:01, 44.19it/s, loss=0.679, v_num=0, val_acc=0.569, train_loss=0.692, train_acc=0.560]\n",
      "Epoch 1:  95%|█████████▍| 741/782 [00:16<00:00, 44.39it/s, loss=0.679, v_num=0, val_acc=0.569, train_loss=0.692, train_acc=0.560]\n",
      "Validating:  83%|████████▎ | 195/235 [00:05<00:00, 56.76it/s]\u001b[A\n",
      "Epoch 1:  97%|█████████▋| 760/782 [00:16<00:00, 45.09it/s, loss=0.679, v_num=0, val_acc=0.569, train_loss=0.692, train_acc=0.560]\n",
      "Epoch 1: 100%|█████████▉| 779/782 [00:17<00:00, 45.44it/s, loss=0.679, v_num=0, val_acc=0.569, train_loss=0.692, train_acc=0.560]\n",
      "Epoch 1: 100%|██████████| 782/782 [00:17<00:00, 45.16it/s, loss=0.679, v_num=0, val_acc=0.622, train_loss=0.687, train_acc=0.612]\n",
      "Epoch 2:  70%|██████▉   | 547/782 [00:11<00:04, 47.22it/s, loss=0.517, v_num=0, val_acc=0.622, train_loss=0.687, train_acc=0.612]\n",
      "Validating: 0it [00:00, ?it/s]\u001b[A\n",
      "Validating:   0%|          | 0/235 [00:00<?, ?it/s]\u001b[A\n",
      "Epoch 2:  70%|███████   | 551/782 [00:13<00:05, 40.45it/s, loss=0.517, v_num=0, val_acc=0.622, train_loss=0.687, train_acc=0.612]\n",
      "Epoch 2:  73%|███████▎  | 570/782 [00:13<00:05, 41.31it/s, loss=0.517, v_num=0, val_acc=0.622, train_loss=0.687, train_acc=0.612]\n",
      "Validating:  12%|█▏        | 28/235 [00:02<00:09, 21.27it/s]\u001b[A\n",
      "Epoch 2:  75%|███████▌  | 589/782 [00:14<00:04, 41.35it/s, loss=0.517, v_num=0, val_acc=0.622, train_loss=0.687, train_acc=0.612]\n",
      "Epoch 2:  78%|███████▊  | 608/782 [00:14<00:04, 42.34it/s, loss=0.517, v_num=0, val_acc=0.622, train_loss=0.687, train_acc=0.612]\n",
      "Validating:  28%|██▊       | 66/235 [00:02<00:03, 44.43it/s]\u001b[A\n",
      "Epoch 2:  80%|████████  | 627/782 [00:14<00:03, 42.00it/s, loss=0.517, v_num=0, val_acc=0.622, train_loss=0.687, train_acc=0.612]\n",
      "Epoch 2:  83%|████████▎ | 646/782 [00:15<00:03, 42.81it/s, loss=0.517, v_num=0, val_acc=0.622, train_loss=0.687, train_acc=0.612]\n",
      "Validating:  43%|████▎     | 101/235 [00:03<00:03, 39.98it/s]\u001b[A\n",
      "Epoch 2:  85%|████████▌ | 665/782 [00:15<00:02, 42.89it/s, loss=0.517, v_num=0, val_acc=0.622, train_loss=0.687, train_acc=0.612]\n",
      "Epoch 2:  87%|████████▋ | 684/782 [00:16<00:02, 42.70it/s, loss=0.517, v_num=0, val_acc=0.622, train_loss=0.687, train_acc=0.612]\n",
      "Epoch 2:  90%|████████▉ | 703/782 [00:16<00:01, 43.58it/s, loss=0.517, v_num=0, val_acc=0.622, train_loss=0.687, train_acc=0.612]\n",
      "Validating:  67%|██████▋   | 158/235 [00:04<00:01, 62.76it/s]\u001b[A\n",
      "Epoch 2:  92%|█████████▏| 722/782 [00:16<00:01, 43.68it/s, loss=0.517, v_num=0, val_acc=0.622, train_loss=0.687, train_acc=0.612]\n",
      "Epoch 2:  95%|█████████▍| 741/782 [00:16<00:00, 44.51it/s, loss=0.517, v_num=0, val_acc=0.622, train_loss=0.687, train_acc=0.612]\n",
      "Epoch 2:  97%|█████████▋| 760/782 [00:16<00:00, 44.77it/s, loss=0.517, v_num=0, val_acc=0.622, train_loss=0.687, train_acc=0.612]\n",
      "Validating:  92%|█████████▏| 216/235 [00:05<00:00, 76.35it/s]\u001b[A\n",
      "Epoch 2: 100%|██████████| 782/782 [00:17<00:00, 44.86it/s, loss=0.517, v_num=0, val_acc=0.741, train_loss=0.614, train_acc=0.687]\n",
      "Epoch 3:  70%|██████▉   | 547/782 [00:11<00:04, 48.18it/s, loss=0.213, v_num=0, val_acc=0.741, train_loss=0.614, train_acc=0.687]\n",
      "Validating: 0it [00:00, ?it/s]\u001b[A\n",
      "Validating:   0%|          | 0/235 [00:00<?, ?it/s]\u001b[A\n",
      "Epoch 3:  70%|███████   | 551/782 [00:13<00:05, 41.04it/s, loss=0.213, v_num=0, val_acc=0.741, train_loss=0.614, train_acc=0.687]\n",
      "Epoch 3:  73%|███████▎  | 570/782 [00:13<00:05, 42.08it/s, loss=0.213, v_num=0, val_acc=0.741, train_loss=0.614, train_acc=0.687]\n",
      "Epoch 3:  75%|███████▌  | 589/782 [00:14<00:04, 41.93it/s, loss=0.213, v_num=0, val_acc=0.741, train_loss=0.614, train_acc=0.687]\n",
      "Epoch 3:  78%|███████▊  | 608/782 [00:14<00:04, 42.90it/s, loss=0.213, v_num=0, val_acc=0.741, train_loss=0.614, train_acc=0.687]\n",
      "Epoch 3:  80%|████████  | 627/782 [00:14<00:03, 42.51it/s, loss=0.213, v_num=0, val_acc=0.741, train_loss=0.614, train_acc=0.687]\n",
      "Validating:  35%|███▍      | 82/235 [00:03<00:03, 42.63it/s]\u001b[A\n",
      "Epoch 3:  83%|████████▎ | 646/782 [00:15<00:03, 42.65it/s, loss=0.213, v_num=0, val_acc=0.741, train_loss=0.614, train_acc=0.687]\n",
      "Epoch 3:  85%|████████▌ | 665/782 [00:15<00:02, 43.57it/s, loss=0.213, v_num=0, val_acc=0.741, train_loss=0.614, train_acc=0.687]\n",
      "Epoch 3:  87%|████████▋ | 684/782 [00:15<00:02, 43.42it/s, loss=0.213, v_num=0, val_acc=0.741, train_loss=0.614, train_acc=0.687]\n",
      "Epoch 3:  90%|████████▉ | 703/782 [00:15<00:01, 44.30it/s, loss=0.213, v_num=0, val_acc=0.741, train_loss=0.614, train_acc=0.687]\n",
      "Epoch 3:  92%|█████████▏| 722/782 [00:16<00:01, 44.39it/s, loss=0.213, v_num=0, val_acc=0.741, train_loss=0.614, train_acc=0.687]\n",
      "Validating:  75%|███████▌  | 177/235 [00:04<00:00, 66.34it/s]\u001b[A\n",
      "Epoch 3:  95%|█████████▍| 741/782 [00:16<00:00, 44.58it/s, loss=0.213, v_num=0, val_acc=0.741, train_loss=0.614, train_acc=0.687]\n",
      "Epoch 3:  97%|█████████▋| 760/782 [00:16<00:00, 45.44it/s, loss=0.213, v_num=0, val_acc=0.741, train_loss=0.614, train_acc=0.687]\n",
      "Epoch 3: 100%|██████████| 782/782 [00:17<00:00, 45.61it/s, loss=0.213, v_num=0, val_acc=0.602, train_loss=0.357, train_acc=0.844]\n",
      "Epoch 4:  70%|██████▉   | 547/782 [00:11<00:04, 47.87it/s, loss=0.13, v_num=0, val_acc=0.602, train_loss=0.357, train_acc=0.844] \n",
      "Validating: 0it [00:00, ?it/s]\u001b[A\n",
      "Validating:   0%|          | 0/235 [00:00<?, ?it/s]\u001b[A\n",
      "Epoch 4:  70%|███████   | 551/782 [00:13<00:05, 41.09it/s, loss=0.13, v_num=0, val_acc=0.602, train_loss=0.357, train_acc=0.844]\n",
      "Validating:   2%|▏         | 5/235 [00:01<01:06,  3.47it/s]\u001b[A\n",
      "Epoch 4:  73%|███████▎  | 570/782 [00:13<00:05, 41.84it/s, loss=0.13, v_num=0, val_acc=0.602, train_loss=0.357, train_acc=0.844]\n",
      "Validating:  11%|█         | 26/235 [00:02<00:08, 25.61it/s]\u001b[A\n",
      "Epoch 4:  75%|███████▌  | 589/782 [00:13<00:04, 42.44it/s, loss=0.13, v_num=0, val_acc=0.602, train_loss=0.357, train_acc=0.844]\n",
      "Validating:  18%|█▊        | 42/235 [00:02<00:07, 27.56it/s]\u001b[A\n",
      "Epoch 4:  78%|███████▊  | 608/782 [00:14<00:04, 42.60it/s, loss=0.13, v_num=0, val_acc=0.602, train_loss=0.357, train_acc=0.844]\n",
      "Epoch 4:  80%|████████  | 627/782 [00:14<00:03, 42.33it/s, loss=0.13, v_num=0, val_acc=0.602, train_loss=0.357, train_acc=0.844]\n",
      "Validating:  34%|███▍      | 81/235 [00:03<00:03, 39.70it/s]\u001b[A\n",
      "Epoch 4:  83%|████████▎ | 646/782 [00:14<00:03, 43.23it/s, loss=0.13, v_num=0, val_acc=0.602, train_loss=0.357, train_acc=0.844]\n",
      "Epoch 4:  85%|████████▌ | 665/782 [00:15<00:02, 43.21it/s, loss=0.13, v_num=0, val_acc=0.602, train_loss=0.357, train_acc=0.844]\n",
      "Validating:  52%|█████▏    | 123/235 [00:03<00:01, 57.72it/s]\u001b[A\n",
      "Epoch 4:  87%|████████▋ | 684/782 [00:15<00:02, 43.99it/s, loss=0.13, v_num=0, val_acc=0.602, train_loss=0.357, train_acc=0.844]\n",
      "Epoch 4:  90%|████████▉ | 703/782 [00:15<00:01, 44.22it/s, loss=0.13, v_num=0, val_acc=0.602, train_loss=0.357, train_acc=0.844]\n",
      "Validating:  68%|██████▊   | 160/235 [00:04<00:01, 70.44it/s]\u001b[A\n",
      "Epoch 4:  92%|█████████▏| 722/782 [00:16<00:01, 44.30it/s, loss=0.13, v_num=0, val_acc=0.602, train_loss=0.357, train_acc=0.844]\n",
      "Epoch 4:  95%|█████████▍| 741/782 [00:16<00:00, 45.15it/s, loss=0.13, v_num=0, val_acc=0.602, train_loss=0.357, train_acc=0.844]\n",
      "Epoch 4:  97%|█████████▋| 760/782 [00:16<00:00, 45.41it/s, loss=0.13, v_num=0, val_acc=0.602, train_loss=0.357, train_acc=0.844]\n",
      "Validating:  91%|█████████ | 213/235 [00:05<00:00, 67.10it/s]\u001b[A\n",
      "Epoch 4: 100%|██████████| 782/782 [00:17<00:00, 45.52it/s, loss=0.13, v_num=0, val_acc=0.653, train_loss=0.169, train_acc=0.936]\n",
      "Epoch 5:  70%|██████▉   | 547/782 [00:11<00:04, 47.35it/s, loss=0.112, v_num=0, val_acc=0.653, train_loss=0.169, train_acc=0.936]\n",
      "Validating: 0it [00:00, ?it/s]\u001b[A\n",
      "Validating:   0%|          | 0/235 [00:00<?, ?it/s]\u001b[A\n",
      "Validating:   0%|          | 1/235 [00:02<07:56,  2.04s/it]\u001b[A\n",
      "Epoch 5:  70%|███████   | 551/782 [00:13<00:05, 39.69it/s, loss=0.112, v_num=0, val_acc=0.653, train_loss=0.169, train_acc=0.936]\n",
      "Epoch 5:  73%|███████▎  | 570/782 [00:14<00:05, 40.42it/s, loss=0.112, v_num=0, val_acc=0.653, train_loss=0.169, train_acc=0.936]\n",
      "Validating:  11%|█         | 25/235 [00:02<00:09, 21.06it/s]\u001b[A\n",
      "Epoch 5:  75%|███████▌  | 589/782 [00:14<00:04, 41.03it/s, loss=0.112, v_num=0, val_acc=0.653, train_loss=0.169, train_acc=0.936]\n",
      "Epoch 5:  78%|███████▊  | 608/782 [00:14<00:04, 41.94it/s, loss=0.112, v_num=0, val_acc=0.653, train_loss=0.169, train_acc=0.936]\n",
      "Validating:  27%|██▋       | 64/235 [00:02<00:02, 60.33it/s]\u001b[A\n",
      "Epoch 5:  80%|████████  | 627/782 [00:14<00:03, 42.23it/s, loss=0.112, v_num=0, val_acc=0.653, train_loss=0.169, train_acc=0.936]\n",
      "Validating:  37%|███▋      | 88/235 [00:03<00:02, 64.60it/s]\u001b[A\n",
      "Epoch 5:  83%|████████▎ | 646/782 [00:15<00:03, 42.93it/s, loss=0.112, v_num=0, val_acc=0.653, train_loss=0.169, train_acc=0.936]\n",
      "Epoch 5:  85%|████████▌ | 665/782 [00:15<00:02, 43.33it/s, loss=0.112, v_num=0, val_acc=0.653, train_loss=0.169, train_acc=0.936]\n",
      "Validating:  51%|█████▏    | 121/235 [00:03<00:01, 71.32it/s]\u001b[A\n",
      "Epoch 5:  87%|████████▋ | 684/782 [00:15<00:02, 43.60it/s, loss=0.112, v_num=0, val_acc=0.653, train_loss=0.169, train_acc=0.936]\n",
      "Epoch 5:  90%|████████▉ | 703/782 [00:15<00:01, 44.39it/s, loss=0.112, v_num=0, val_acc=0.653, train_loss=0.169, train_acc=0.936]\n",
      "Validating:  67%|██████▋   | 158/235 [00:04<00:00, 82.11it/s]\u001b[A\n",
      "Epoch 5:  92%|█████████▏| 722/782 [00:16<00:01, 44.52it/s, loss=0.112, v_num=0, val_acc=0.653, train_loss=0.169, train_acc=0.936]\n",
      "Validating:  77%|███████▋  | 181/235 [00:04<00:00, 71.00it/s]\u001b[A\n",
      "Epoch 5:  95%|█████████▍| 741/782 [00:16<00:00, 45.13it/s, loss=0.112, v_num=0, val_acc=0.653, train_loss=0.169, train_acc=0.936]\n",
      "Epoch 5:  97%|█████████▋| 760/782 [00:16<00:00, 45.57it/s, loss=0.112, v_num=0, val_acc=0.653, train_loss=0.169, train_acc=0.936]\n",
      "Validating:  92%|█████████▏| 217/235 [00:05<00:00, 81.52it/s]\u001b[A\n",
      "Epoch 5: 100%|██████████| 782/782 [00:17<00:00, 45.55it/s, loss=0.112, v_num=0, val_acc=0.662, train_loss=0.125, train_acc=0.953]\n",
      "Epoch 6:  70%|██████▉   | 547/782 [00:11<00:05, 46.85it/s, loss=0.0999, v_num=0, val_acc=0.662, train_loss=0.125, train_acc=0.953]\n",
      "Validating: 0it [00:00, ?it/s]\u001b[A\n",
      "Validating:   0%|          | 0/235 [00:00<?, ?it/s]\u001b[A\n",
      "Validating:   0%|          | 1/235 [00:01<06:47,  1.74s/it]\u001b[A\n",
      "Epoch 6:  70%|███████   | 551/782 [00:13<00:05, 40.08it/s, loss=0.0999, v_num=0, val_acc=0.662, train_loss=0.125, train_acc=0.953]\n",
      "Epoch 6:  73%|███████▎  | 570/782 [00:13<00:05, 41.01it/s, loss=0.0999, v_num=0, val_acc=0.662, train_loss=0.125, train_acc=0.953]\n",
      "Validating:  11%|█▏        | 27/235 [00:02<00:08, 25.65it/s]\u001b[A\n",
      "Epoch 6:  75%|███████▌  | 589/782 [00:14<00:04, 40.95it/s, loss=0.0999, v_num=0, val_acc=0.662, train_loss=0.125, train_acc=0.953]\n",
      "Epoch 6:  78%|███████▊  | 608/782 [00:14<00:04, 41.88it/s, loss=0.0999, v_num=0, val_acc=0.662, train_loss=0.125, train_acc=0.953]\n",
      "Validating:  28%|██▊       | 65/235 [00:02<00:03, 55.57it/s]\u001b[A\n",
      "Epoch 6:  80%|████████  | 627/782 [00:15<00:03, 41.65it/s, loss=0.0999, v_num=0, val_acc=0.662, train_loss=0.125, train_acc=0.953]\n",
      "Epoch 6:  83%|████████▎ | 646/782 [00:15<00:03, 41.32it/s, loss=0.0999, v_num=0, val_acc=0.662, train_loss=0.125, train_acc=0.953]\n",
      "Epoch 6:  85%|████████▌ | 665/782 [00:15<00:02, 42.21it/s, loss=0.0999, v_num=0, val_acc=0.662, train_loss=0.125, train_acc=0.953]\n",
      "Validating:  51%|█████     | 119/235 [00:03<00:02, 51.99it/s]\u001b[A\n",
      "Epoch 6:  87%|████████▋ | 684/782 [00:16<00:02, 42.03it/s, loss=0.0999, v_num=0, val_acc=0.662, train_loss=0.125, train_acc=0.953]\n",
      "Epoch 6:  90%|████████▉ | 703/782 [00:16<00:01, 42.89it/s, loss=0.0999, v_num=0, val_acc=0.662, train_loss=0.125, train_acc=0.953]\n",
      "Validating:  66%|██████▋   | 156/235 [00:04<00:01, 63.85it/s]\u001b[A\n",
      "Epoch 6:  92%|█████████▏| 722/782 [00:16<00:01, 42.82it/s, loss=0.0999, v_num=0, val_acc=0.662, train_loss=0.125, train_acc=0.953]\n",
      "Epoch 6:  95%|█████████▍| 741/782 [00:16<00:00, 43.65it/s, loss=0.0999, v_num=0, val_acc=0.662, train_loss=0.125, train_acc=0.953]\n",
      "Validating:  83%|████████▎ | 195/235 [00:05<00:00, 62.55it/s]\u001b[A\n",
      "Epoch 6:  97%|█████████▋| 760/782 [00:17<00:00, 43.86it/s, loss=0.0999, v_num=0, val_acc=0.662, train_loss=0.125, train_acc=0.953]\n",
      "Epoch 6: 100%|█████████▉| 779/782 [00:17<00:00, 44.21it/s, loss=0.0999, v_num=0, val_acc=0.662, train_loss=0.125, train_acc=0.953]\n",
      "Epoch 6: 100%|██████████| 782/782 [00:17<00:00, 43.94it/s, loss=0.0999, v_num=0, val_acc=0.602, train_loss=0.100, train_acc=0.964]\n",
      "Epoch 7:  70%|██████▉   | 547/782 [00:11<00:04, 47.82it/s, loss=0.0821, v_num=0, val_acc=0.602, train_loss=0.100, train_acc=0.964]\n",
      "Validating: 0it [00:00, ?it/s]\u001b[A\n",
      "Validating:   0%|          | 0/235 [00:00<?, ?it/s]\u001b[A\n",
      "Epoch 7:  70%|███████   | 551/782 [00:13<00:05, 40.87it/s, loss=0.0821, v_num=0, val_acc=0.602, train_loss=0.100, train_acc=0.964]\n",
      "Epoch 7:  73%|███████▎  | 570/782 [00:13<00:05, 41.90it/s, loss=0.0821, v_num=0, val_acc=0.602, train_loss=0.100, train_acc=0.964]\n",
      "Validating:  11%|█         | 26/235 [00:02<00:09, 20.95it/s]\u001b[A\n",
      "Epoch 7:  75%|███████▌  | 589/782 [00:13<00:04, 42.19it/s, loss=0.0821, v_num=0, val_acc=0.602, train_loss=0.100, train_acc=0.964]\n",
      "Epoch 7:  78%|███████▊  | 608/782 [00:14<00:04, 43.19it/s, loss=0.0821, v_num=0, val_acc=0.602, train_loss=0.100, train_acc=0.964]\n",
      "Validating:  28%|██▊       | 65/235 [00:02<00:04, 41.38it/s]\u001b[A\n",
      "Epoch 7:  80%|████████  | 627/782 [00:14<00:03, 43.43it/s, loss=0.0821, v_num=0, val_acc=0.602, train_loss=0.100, train_acc=0.964]\n",
      "Epoch 7:  83%|████████▎ | 646/782 [00:14<00:03, 43.65it/s, loss=0.0821, v_num=0, val_acc=0.602, train_loss=0.100, train_acc=0.964]\n",
      "Epoch 7:  85%|████████▌ | 665/782 [00:14<00:02, 44.53it/s, loss=0.0821, v_num=0, val_acc=0.602, train_loss=0.100, train_acc=0.964]\n",
      "Validating:  51%|█████     | 120/235 [00:03<00:01, 63.29it/s]\u001b[A\n",
      "Epoch 7:  87%|████████▋ | 684/782 [00:15<00:02, 44.41it/s, loss=0.0821, v_num=0, val_acc=0.602, train_loss=0.100, train_acc=0.964]\n",
      "Epoch 7:  90%|████████▉ | 703/782 [00:15<00:01, 45.22it/s, loss=0.0821, v_num=0, val_acc=0.602, train_loss=0.100, train_acc=0.964]\n",
      "Validating:  66%|██████▋   | 156/235 [00:04<00:01, 71.03it/s]\u001b[A\n",
      "Epoch 7:  92%|█████████▏| 722/782 [00:16<00:01, 44.88it/s, loss=0.0821, v_num=0, val_acc=0.602, train_loss=0.100, train_acc=0.964]\n",
      "Epoch 7:  95%|█████████▍| 741/782 [00:16<00:00, 44.97it/s, loss=0.0821, v_num=0, val_acc=0.602, train_loss=0.100, train_acc=0.964]\n",
      "Validating:  83%|████████▎ | 194/235 [00:04<00:00, 49.86it/s]\u001b[A\n",
      "Epoch 7:  97%|█████████▋| 760/782 [00:16<00:00, 45.60it/s, loss=0.0821, v_num=0, val_acc=0.602, train_loss=0.100, train_acc=0.964]\n",
      "Epoch 7: 100%|█████████▉| 779/782 [00:16<00:00, 45.89it/s, loss=0.0821, v_num=0, val_acc=0.602, train_loss=0.100, train_acc=0.964]\n",
      "Epoch 7: 100%|██████████| 782/782 [00:17<00:00, 45.59it/s, loss=0.0821, v_num=0, val_acc=0.649, train_loss=0.0863, train_acc=0.969]\n",
      "Epoch 7: 100%|██████████| 782/782 [00:17<00:00, 45.56it/s, loss=0.0821, v_num=0, val_acc=0.649, train_loss=0.0863, train_acc=0.969]\n",
      "CPU times: user 1min 16s, sys: 47.5 s, total: 2min 3s\n",
      "Wall time: 2min 25s\n"
     ]
    },
    {
     "data": {
      "text/plain": [
       "1"
      ]
     },
     "execution_count": 5,
     "metadata": {},
     "output_type": "execute_result"
    }
   ],
   "source": [
    "%%time\n",
    "\n",
    "from pytorch_lightning.callbacks import ModelCheckpoint\n",
    "from pytorch_lightning.callbacks.early_stopping import EarlyStopping\n",
    "from pytorch_lightning import loggers as pl_loggers\n",
    "import torchvision.transforms as transforms\n",
    "\n",
    "# prepare our data\n",
    "batch_size = 128\n",
    "max_epochs = 50\n",
    "\n",
    "transform = transforms.Compose([\n",
    "    transforms.Resize((64, 64)),\n",
    "    transforms.ToTensor(),\n",
    "    transforms.Normalize((0.5, 0.5, 0.5), (0.5, 0.5, 0.5))\n",
    "])\n",
    "\n",
    "train_set = ImageFolder(experiment_root / 'fake_patches', transform=transform)  # 70,000 samples (35,000 per class) - fake\n",
    "valid_set = ImageFolder(experiment_root / 'valid_patches', transform=transform)  # 30,000 samples (15,000 per class) - non-fake\n",
    "\n",
    "train_loader = DataLoader(train_set, batch_size=batch_size, shuffle=True, worker_init_fn=np.random.seed(global_seed), num_workers=32)\n",
    "valid_loader = DataLoader(valid_set, batch_size=batch_size, shuffle=True, worker_init_fn=np.random.seed(global_seed), num_workers=32)\n",
    "\n",
    "# configure logging and checkpoints\n",
    "checkpoint_callback = ModelCheckpoint(\n",
    "    monitor=\"val_acc\",\n",
    "    dirpath=experiment_root / \"patch_model\",\n",
    "    filename=f\"checkpoint.ckpt\",\n",
    "    save_top_k=1,\n",
    "    mode=\"max\",\n",
    ")\n",
    "\n",
    "early_stop_callback = EarlyStopping(\n",
    "    monitor='val_acc',\n",
    "    min_delta=0.00,\n",
    "    patience=5,\n",
    "    verbose=False,\n",
    "    mode='max'\n",
    ")\n",
    "\n",
    "csv_logger = pl_loggers.CSVLogger(experiment_root / 'logs', name='patch_classifier_fake', version=0)\n",
    "\n",
    "# train our model\n",
    "model = Backbone((3, 64, 64), 2)\n",
    "classifier = PatchClassifier(model)\n",
    "trainer = pl.Trainer(callbacks=[checkpoint_callback, early_stop_callback], log_every_n_steps=1, gpus=1, max_epochs=max_epochs, logger=csv_logger, auto_select_gpus=False)\n",
    "trainer.fit(classifier, train_dataloader=train_loader, val_dataloaders=valid_loader)"
   ]
  },
  {
   "cell_type": "code",
   "execution_count": 6,
   "metadata": {},
   "outputs": [
    {
     "name": "stdout",
     "output_type": "stream",
     "text": [
      "Testing: 100%|██████████| 235/235 [00:05<00:00, 40.63it/s]\n",
      "--------------------------------------------------------------------------------\n",
      "DATALOADER:0 TEST RESULTS\n",
      "{'test_acc': 0.6524666547775269, 'test_loss': 0.6836418509483337}\n",
      "--------------------------------------------------------------------------------\n"
     ]
    },
    {
     "data": {
      "text/plain": [
       "[{'test_loss': 0.6836418509483337, 'test_acc': 0.6524666547775269}]"
      ]
     },
     "execution_count": 6,
     "metadata": {},
     "output_type": "execute_result"
    }
   ],
   "source": [
    "# test\n",
    "test_set = ImageFolder(experiment_root / 'test_patches', transform=transform)\n",
    "test_loader = DataLoader(test_set, batch_size=batch_size, worker_init_fn=np.random.seed(global_seed), num_workers=32)\n",
    "trainer.test(test_dataloaders=test_loader)"
   ]
  },
  {
   "cell_type": "code",
   "execution_count": 7,
   "metadata": {},
   "outputs": [],
   "source": [
    "import pandas as pd\n",
    "\n",
    "log_df = pd.read_csv(experiment_root / 'logs/patch_classifier_fake/version_0/metrics.csv')\n",
    "train_log = log_df[['train_loss', 'train_acc', 'epoch']].dropna()\n",
    "valid_log = log_df[['val_loss', 'val_acc', 'epoch']].dropna()\n",
    "test_log = log_df[['test_loss', 'test_acc', 'epoch']].dropna()"
   ]
  },
  {
   "cell_type": "code",
   "execution_count": 8,
   "metadata": {},
   "outputs": [
    {
     "data": {
      "text/html": [
       "<div>\n",
       "<style scoped>\n",
       "    .dataframe tbody tr th:only-of-type {\n",
       "        vertical-align: middle;\n",
       "    }\n",
       "\n",
       "    .dataframe tbody tr th {\n",
       "        vertical-align: top;\n",
       "    }\n",
       "\n",
       "    .dataframe thead th {\n",
       "        text-align: right;\n",
       "    }\n",
       "</style>\n",
       "<table border=\"1\" class=\"dataframe\">\n",
       "  <thead>\n",
       "    <tr style=\"text-align: right;\">\n",
       "      <th></th>\n",
       "      <th>val_loss</th>\n",
       "      <th>val_acc</th>\n",
       "      <th>epoch</th>\n",
       "    </tr>\n",
       "  </thead>\n",
       "  <tbody>\n",
       "    <tr>\n",
       "      <th>1</th>\n",
       "      <td>0.691669</td>\n",
       "      <td>0.568733</td>\n",
       "      <td>0</td>\n",
       "    </tr>\n",
       "    <tr>\n",
       "      <th>3</th>\n",
       "      <td>0.680973</td>\n",
       "      <td>0.622167</td>\n",
       "      <td>1</td>\n",
       "    </tr>\n",
       "    <tr>\n",
       "      <th>5</th>\n",
       "      <td>0.561491</td>\n",
       "      <td>0.740567</td>\n",
       "      <td>2</td>\n",
       "    </tr>\n",
       "    <tr>\n",
       "      <th>7</th>\n",
       "      <td>1.161615</td>\n",
       "      <td>0.602367</td>\n",
       "      <td>3</td>\n",
       "    </tr>\n",
       "    <tr>\n",
       "      <th>9</th>\n",
       "      <td>1.015747</td>\n",
       "      <td>0.653400</td>\n",
       "      <td>4</td>\n",
       "    </tr>\n",
       "    <tr>\n",
       "      <th>11</th>\n",
       "      <td>1.012537</td>\n",
       "      <td>0.662333</td>\n",
       "      <td>5</td>\n",
       "    </tr>\n",
       "    <tr>\n",
       "      <th>13</th>\n",
       "      <td>1.530312</td>\n",
       "      <td>0.601733</td>\n",
       "      <td>6</td>\n",
       "    </tr>\n",
       "    <tr>\n",
       "      <th>15</th>\n",
       "      <td>1.187654</td>\n",
       "      <td>0.648667</td>\n",
       "      <td>7</td>\n",
       "    </tr>\n",
       "  </tbody>\n",
       "</table>\n",
       "</div>"
      ],
      "text/plain": [
       "    val_loss   val_acc  epoch\n",
       "1   0.691669  0.568733      0\n",
       "3   0.680973  0.622167      1\n",
       "5   0.561491  0.740567      2\n",
       "7   1.161615  0.602367      3\n",
       "9   1.015747  0.653400      4\n",
       "11  1.012537  0.662333      5\n",
       "13  1.530312  0.601733      6\n",
       "15  1.187654  0.648667      7"
      ]
     },
     "execution_count": 8,
     "metadata": {},
     "output_type": "execute_result"
    }
   ],
   "source": [
    "valid_log"
   ]
  },
  {
   "cell_type": "code",
   "execution_count": 9,
   "metadata": {},
   "outputs": [
    {
     "data": {
      "text/plain": [
       "<matplotlib.legend.Legend at 0x7fe29df7b240>"
      ]
     },
     "execution_count": 9,
     "metadata": {},
     "output_type": "execute_result"
    },
    {
     "data": {
      "image/png": "[encoded data removed]",
      "text/plain": [
       "<Figure size 432x288 with 1 Axes>"
      ]
     },
     "metadata": {
      "needs_background": "light"
     },
     "output_type": "display_data"
    }
   ],
   "source": [
    "%matplotlib inline\n",
    "import matplotlib.pyplot as plt\n",
    "\n",
    "fig = plt.figure()\n",
    "plt.plot(train_log.epoch, train_log.train_loss, label=\"training loss\")\n",
    "plt.plot(valid_log.epoch, valid_log.val_loss, label=\"validation loss\")\n",
    "plt.xlabel(\"epoch\")\n",
    "plt.ylabel(\"loss\")\n",
    "plt.title(\"Patch Classifier Fake Data Loss\")\n",
    "plt.legend()"
   ]
  },
  {
   "cell_type": "code",
   "execution_count": 10,
   "metadata": {},
   "outputs": [
    {
     "data": {
      "text/plain": [
       "<matplotlib.legend.Legend at 0x7fe29de74f60>"
      ]
     },
     "execution_count": 10,
     "metadata": {},
     "output_type": "execute_result"
    },
    {
     "data": {
      "image/png": "[encoded data removed]",
      "text/plain": [
       "<Figure size 432x288 with 1 Axes>"
      ]
     },
     "metadata": {
      "needs_background": "light"
     },
     "output_type": "display_data"
    }
   ],
   "source": [
    "%matplotlib inline\n",
    "import matplotlib.pyplot as plt\n",
    "\n",
    "fig = plt.figure()\n",
    "plt.plot(train_log.epoch, train_log.train_acc, label=\"training accuracy\")\n",
    "plt.plot(valid_log.epoch, valid_log.val_acc, label=\"validation accuracy\")\n",
    "plt.xlabel(\"epoch\")\n",
    "plt.ylabel(\"accuracy\")\n",
    "plt.title(\"Patch Classifier Fake Data Training Accuracy\")\n",
    "plt.legend()"
   ]
  },
  {
   "cell_type": "code",
   "execution_count": 11,
   "metadata": {},
   "outputs": [],
   "source": [
    "len(classifier.test_pred), len(classifier.test_y)\n",
    "expected = [x for xs in classifier.test_y for x in xs]\n",
    "predicted = [x for xs in classifier.test_pred for x in xs] "
   ]
  },
  {
   "cell_type": "code",
   "execution_count": 12,
   "metadata": {},
   "outputs": [
    {
     "name": "stdout",
     "output_type": "stream",
     "text": [
      "              precision    recall  f1-score   support\n",
      "\n",
      "      normal       0.60      0.91      0.72     15000\n",
      "       tumor       0.82      0.39      0.53     15000\n",
      "\n",
      "    accuracy                           0.65     30000\n",
      "   macro avg       0.71      0.65      0.63     30000\n",
      "weighted avg       0.71      0.65      0.63     30000\n",
      "\n"
     ]
    },
    {
     "data": {
      "image/png": "[encoded data removed]",
      "text/plain": [
       "<Figure size 432x288 with 2 Axes>"
      ]
     },
     "metadata": {
      "needs_background": "light"
     },
     "output_type": "display_data"
    }
   ],
   "source": [
    "import seaborn as sns\n",
    "from sklearn import metrics\n",
    "import matplotlib.pyplot as plt\n",
    "\n",
    "print(metrics.classification_report(expected, predicted, labels=[0, 1], target_names=['normal', 'tumor']))\n",
    "\n",
    "cm = metrics.confusion_matrix(expected, predicted)\n",
    "\n",
    "ax = plt.subplot()\n",
    "sns.heatmap(cm, annot=True, ax = ax, fmt='g', cmap='Blues');\n",
    "\n",
    "# labels, title and ticks\n",
    "ax.set_xlabel('Predicted labels');\n",
    "ax.set_ylabel('True labels'); \n",
    "ax.set_title('Patch Classifier Fake Data Confusion Matrix'); \n",
    "ax.xaxis.set_ticklabels(['normal', 'tumor']); ax.yaxis.set_ticklabels(['normal', 'tumor']);"
   ]
  },
  {
   "cell_type": "code",
   "execution_count": null,
   "metadata": {},
   "outputs": [],
   "source": []
  }
 ],
 "metadata": {
  "kernelspec": {
   "display_name": "pathgen",
   "language": "python",
   "name": "pathgen"
  },
  "language_info": {
   "codemirror_mode": {
    "name": "ipython",
    "version": 3
   },
   "file_extension": ".py",
   "mimetype": "text/x-python",
   "name": "python",
   "nbconvert_exporter": "python",
   "pygments_lexer": "ipython3",
   "version": "3.6.10"
  }
 },
 "nbformat": 4,
 "nbformat_minor": 4
}
