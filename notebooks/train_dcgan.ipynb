{
 "cells": [
  {
   "cell_type": "code",
   "execution_count": 1,
   "metadata": {},
   "outputs": [],
   "source": [
    "from pathgen.utils.seeds import set_seed\n",
    "from pathgen.utils.paths import project_root\n",
    "\n",
    "experiment_name = \"one\"\n",
    "experiment_root = project_root() / \"experiments\" / experiment_name\n",
    "\n",
    "global_seed = 123\n",
    "set_seed(global_seed)"
   ]
  },
  {
   "cell_type": "code",
   "execution_count": 2,
   "metadata": {},
   "outputs": [
    {
     "data": {
      "text/plain": [
       "14001"
      ]
     },
     "execution_count": 2,
     "metadata": {},
     "output_type": "execute_result"
    }
   ],
   "source": [
    "from pl_bolts.models.gans.dcgan.dcgan_module import DCGAN\n",
    "from torchvision.datasets import ImageFolder\n",
    "from torchvision import transforms as transform_lib\n",
    "\n",
    "transforms = transform_lib.Compose([\n",
    "    transform_lib.Resize(256),\n",
    "    transform_lib.ToTensor(),\n",
    "    transform_lib.Normalize((0.5, ), (0.5, )),\n",
    "])\n",
    "\n",
    "train_set = ImageFolder(experiment_root / \"gan_training_patches\", transform=transforms)\n",
    "len(train_set)\n",
    "\n"
   ]
  },
  {
   "cell_type": "code",
   "execution_count": null,
   "metadata": {},
   "outputs": [
    {
     "name": "stderr",
     "output_type": "stream",
     "text": [
      "GPU available: True, used: True\n",
      "TPU available: None, using: 0 TPU cores\n",
      "/home/ubuntu/anaconda3/envs/pathgen/lib/python3.6/site-packages/pytorch_lightning/utilities/distributed.py:50: UserWarning: Experiment logs directory /home/ubuntu/pathgen/experiments/one/logs/dcgan/version_0 exists and is not empty. Previous log files in this directory will be deleted when the new ones are saved!\n",
      "  warnings.warn(*args, **kwargs)\n",
      "initializing ddp: GLOBAL_RANK: 0, MEMBER: 1/8\n"
     ]
    }
   ],
   "source": [
    "from torch.utils.data import DataLoader\n",
    "import pytorch_lightning as pl\n",
    "from pl_bolts.callbacks import LatentDimInterpolator, TensorboardGenerativeModelImageSampler\n",
    "from pytorch_lightning import loggers as pl_loggers\n",
    "\n",
    "model = DCGAN(image_channels=3)\n",
    "\n",
    "callbacks = [\n",
    "    TensorboardGenerativeModelImageSampler(num_samples=5),\n",
    "    LatentDimInterpolator(interpolate_epoch_interval=5),\n",
    "]\n",
    "\n",
    "dataloader = DataLoader(train_set, batch_size=64, shuffle=True, num_workers=64)\n",
    "\n",
    "csv_logger = pl_loggers.CSVLogger(experiment_root / 'logs', name='dcgan', version=0)\n",
    "\n",
    "trainer = pl.Trainer(callbacks=callbacks, logger=csv_logger, log_every_n_steps=1)\n",
    "trainer.fit(model, dataloader)"
   ]
  },
  {
   "cell_type": "code",
   "execution_count": null,
   "metadata": {},
   "outputs": [],
   "source": []
  }
 ],
 "metadata": {
  "kernelspec": {
   "display_name": "pathgen",
   "language": "python",
   "name": "pathgen"
  },
  "language_info": {
   "codemirror_mode": {
    "name": "ipython",
    "version": 3
   },
   "file_extension": ".py",
   "mimetype": "text/x-python",
   "name": "python",
   "nbconvert_exporter": "python",
   "pygments_lexer": "ipython3",
   "version": "3.6.10"
  }
 },
 "nbformat": 4,
 "nbformat_minor": 4
}
