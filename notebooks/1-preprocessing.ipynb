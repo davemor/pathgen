{
 "cells": [
  {
   "cell_type": "markdown",
   "id": "damaged-nigeria",
   "metadata": {},
   "source": [
    "# Dataset Preprocessing\n",
    "In this notebook we are going to preprocess the slides to generate our sets of patches for training, validation, and testing."
   ]
  },
  {
   "cell_type": "code",
   "execution_count": 1,
   "id": "searching-collapse",
   "metadata": {},
   "outputs": [],
   "source": [
    "from pathgen.utils.seeds import set_seed\n",
    "\n",
    "global_seed = 123\n",
    "set_seed(global_seed)"
   ]
  },
  {
   "cell_type": "code",
   "execution_count": 2,
   "id": "copyrighted-tracker",
   "metadata": {},
   "outputs": [],
   "source": [
    "from pathgen.utils.paths import project_root\n",
    "\n",
    "experiment_name = \"all\"\n",
    "experiment_root = project_root() / \"experiments\" / experiment_name"
   ]
  },
  {
   "cell_type": "markdown",
   "id": "practical-continuity",
   "metadata": {},
   "source": [
    "## 1. Audit the dataset\n",
    "Let's find out how many patches there are in each slide in the Camelyon16 dataset, so we can select from the in a principled way."
   ]
  },
  {
   "cell_type": "code",
   "execution_count": 3,
   "id": "frozen-fault",
   "metadata": {},
   "outputs": [
    {
     "data": {
      "text/plain": [
       "10"
      ]
     },
     "execution_count": 3,
     "metadata": {},
     "output_type": "execute_result"
    }
   ],
   "source": [
    "import pathgen.data.datasets.camelyon16 as camelyon16\n",
    "\n",
    "train = camelyon16.training_small()\n",
    "len(train)"
   ]
  },
  {
   "cell_type": "code",
   "execution_count": 4,
   "id": "republican-bracelet",
   "metadata": {},
   "outputs": [
    {
     "data": {
      "text/plain": [
       "(PosixPath('/home/ubuntu/pathgen/data/camelyon16/raw/training/tumor/tumor_024.tif'),\n",
       " PosixPath('/home/ubuntu/pathgen/data/camelyon16/raw/training/lesion_annotations/tumor_024.xml'),\n",
       " 'tumor',\n",
       " '')"
      ]
     },
     "execution_count": 4,
     "metadata": {},
     "output_type": "execute_result"
    }
   ],
   "source": [
    "train[0]"
   ]
  },
  {
   "cell_type": "code",
   "execution_count": 5,
   "id": "adolescent-croatia",
   "metadata": {},
   "outputs": [
    {
     "name": "stdout",
     "output_type": "stream",
     "text": [
      "indexing tumor_024.tif\n",
      "indexing tumor_038.tif\n",
      "indexing tumor_054.tif\n",
      "indexing tumor_063.tif\n",
      "indexing tumor_065.tif\n",
      "indexing tumor_076.tif\n",
      "indexing tumor_089.tif\n",
      "indexing normal_014.tif\n",
      "indexing normal_038.tif\n",
      "indexing normal_100.tif\n"
     ]
    },
    {
     "data": {
      "text/plain": [
       "<pathgen.preprocess.patching.slides_index.SlidesIndex at 0x7f0fe5b735f8>"
      ]
     },
     "execution_count": 5,
     "metadata": {},
     "output_type": "execute_result"
    }
   ],
   "source": [
    "from pathgen.preprocess.patching import make_index\n",
    "from pathgen.preprocess.tissue_detection import TissueDetectorOTSU\n",
    "from pathgen.preprocess.patching import GridPatchFinder\n",
    "\n",
    "tissue_detector = TissueDetectorOTSU()\n",
    "patch_finder = GridPatchFinder(6, 0, 256, 256)\n",
    "\n",
    "index = make_index(train, tissue_detector, patch_finder)\n",
    "index"
   ]
  },
  {
   "cell_type": "code",
   "execution_count": 6,
   "id": "incorrect-glance",
   "metadata": {},
   "outputs": [
    {
     "name": "stdout",
     "output_type": "stream",
     "text": [
      "Total normal patches: 235153\n",
      "Total tumor patches: 89530\n"
     ]
    },
    {
     "data": {
      "text/html": [
       "<div>\n",
       "<style scoped>\n",
       "    .dataframe tbody tr th:only-of-type {\n",
       "        vertical-align: middle;\n",
       "    }\n",
       "\n",
       "    .dataframe tbody tr th {\n",
       "        vertical-align: top;\n",
       "    }\n",
       "\n",
       "    .dataframe thead th {\n",
       "        text-align: right;\n",
       "    }\n",
       "</style>\n",
       "<table border=\"1\" class=\"dataframe\">\n",
       "  <thead>\n",
       "    <tr style=\"text-align: right;\">\n",
       "      <th>label</th>\n",
       "      <th>background</th>\n",
       "      <th>normal</th>\n",
       "      <th>tumor</th>\n",
       "    </tr>\n",
       "  </thead>\n",
       "  <tbody>\n",
       "    <tr>\n",
       "      <th>0</th>\n",
       "      <td>0</td>\n",
       "      <td>50101</td>\n",
       "      <td>31</td>\n",
       "    </tr>\n",
       "    <tr>\n",
       "      <th>1</th>\n",
       "      <td>0</td>\n",
       "      <td>5283</td>\n",
       "      <td>736</td>\n",
       "    </tr>\n",
       "    <tr>\n",
       "      <th>2</th>\n",
       "      <td>0</td>\n",
       "      <td>25753</td>\n",
       "      <td>22335</td>\n",
       "    </tr>\n",
       "    <tr>\n",
       "      <th>3</th>\n",
       "      <td>0</td>\n",
       "      <td>45720</td>\n",
       "      <td>49</td>\n",
       "    </tr>\n",
       "    <tr>\n",
       "      <th>4</th>\n",
       "      <td>0</td>\n",
       "      <td>12051</td>\n",
       "      <td>71</td>\n",
       "    </tr>\n",
       "    <tr>\n",
       "      <th>5</th>\n",
       "      <td>0</td>\n",
       "      <td>15591</td>\n",
       "      <td>37151</td>\n",
       "    </tr>\n",
       "    <tr>\n",
       "      <th>6</th>\n",
       "      <td>0</td>\n",
       "      <td>44378</td>\n",
       "      <td>29157</td>\n",
       "    </tr>\n",
       "    <tr>\n",
       "      <th>7</th>\n",
       "      <td>0</td>\n",
       "      <td>8002</td>\n",
       "      <td>0</td>\n",
       "    </tr>\n",
       "    <tr>\n",
       "      <th>8</th>\n",
       "      <td>0</td>\n",
       "      <td>3365</td>\n",
       "      <td>0</td>\n",
       "    </tr>\n",
       "    <tr>\n",
       "      <th>9</th>\n",
       "      <td>0</td>\n",
       "      <td>24909</td>\n",
       "      <td>0</td>\n",
       "    </tr>\n",
       "  </tbody>\n",
       "</table>\n",
       "</div>"
      ],
      "text/plain": [
       "label  background  normal  tumor\n",
       "0               0   50101     31\n",
       "1               0    5283    736\n",
       "2               0   25753  22335\n",
       "3               0   45720     49\n",
       "4               0   12051     71\n",
       "5               0   15591  37151\n",
       "6               0   44378  29157\n",
       "7               0    8002      0\n",
       "8               0    3365      0\n",
       "9               0   24909      0"
      ]
     },
     "execution_count": 6,
     "metadata": {},
     "output_type": "execute_result"
    }
   ],
   "source": [
    "training_summary = index.summary()\n",
    "total_normal = training_summary['normal'].sum()\n",
    "total_tumor = training_summary['tumor'].sum()\n",
    "print(f\"Total normal patches: {total_normal}\")\n",
    "print(f\"Total tumor patches: {total_tumor}\")\n",
    "training_summary"
   ]
  },
  {
   "cell_type": "code",
   "execution_count": 7,
   "id": "stone-former",
   "metadata": {},
   "outputs": [],
   "source": [
    "index.save(experiment_root / 'train_index')"
   ]
  },
  {
   "cell_type": "code",
   "execution_count": 8,
   "id": "analyzed-arcade",
   "metadata": {},
   "outputs": [
    {
     "data": {
      "text/plain": [
       "10"
      ]
     },
     "execution_count": 8,
     "metadata": {},
     "output_type": "execute_result"
    }
   ],
   "source": [
    "from pathgen.preprocess.patching import SlidesIndex\n",
    "\n",
    "loaded_index = SlidesIndex.load(experiment_root / 'train_index')\n",
    "len(loaded_index)"
   ]
  },
  {
   "cell_type": "markdown",
   "id": "leading-subscription",
   "metadata": {},
   "source": [
    "## 2. Sampling at a slide level\n",
    "We want the samples in the different sets (train, validate, and test) to come from seperate slides. Test is it's own dataset, but validate has to be broken off from train on a per-slide basis. We want the split to take into account the number of patches in each set (because it is the patches that we are interested in). Let's base the split so that the validate set has about 30% of the tumor patches in it. Baseing it on the tumor patches makes sense because they are the class with the smallest number of samples.\n",
    "\n",
    "Our algorithm for splitting will work like so:\n",
    "1. Work out the total number of tumor patches in the whole dataset.\n",
    "2. Work out what 30% (or whatever the amount is) of the total patches is.\n",
    "3. Start counting with 0 patches and 0 slides in the validation set.\n",
    "4. Randomly select a slide in training and move it to validation.\n",
    "5. Add the number of patches in that slide to the total.\n",
    "6. Repeat from 4 until the total number of patches is greater than 30% of the total."
   ]
  },
  {
   "cell_type": "code",
   "execution_count": 8,
   "id": "suburban-provider",
   "metadata": {},
   "outputs": [
    {
     "data": {
      "text/plain": [
       "26859"
      ]
     },
     "execution_count": 8,
     "metadata": {},
     "output_type": "execute_result"
    }
   ],
   "source": [
    "total_tumor = training_summary['tumor'].sum()\n",
    "valid_tumor_count = int(total_tumor * 0.3)  # rounds down\n",
    "valid_tumor_count"
   ]
  },
  {
   "cell_type": "code",
   "execution_count": 9,
   "id": "thousand-medline",
   "metadata": {},
   "outputs": [
    {
     "name": "stdout",
     "output_type": "stream",
     "text": [
      "[9, 2, 3, 6, 1, 4, 0]\n",
      "[8, 7, 5]\n",
      "10\n",
      "10\n"
     ]
    }
   ],
   "source": [
    "import random\n",
    "\n",
    "train_slide_indices = list(range(len(training_summary)))\n",
    "random.shuffle(train_slide_indices)\n",
    "valid_slide_indices = []\n",
    "total_valid_patches = 0\n",
    "while total_valid_patches < valid_tumor_count:\n",
    "    slide_idx = train_slide_indices[0]\n",
    "    tumor_count = training_summary.iloc[slide_idx]['tumor']\n",
    "    total_valid_patches += tumor_count\n",
    "    train_slide_indices.pop(0)\n",
    "    valid_slide_indices.append(slide_idx)\n",
    "    \n",
    "# print them out\n",
    "print(train_slide_indices)\n",
    "print(valid_slide_indices)\n",
    "\n",
    "# check there are no duplicates\n",
    "print(len(train_slide_indices) + len(valid_slide_indices))\n",
    "print(len(set(train_slide_indices + valid_slide_indices)))"
   ]
  },
  {
   "cell_type": "markdown",
   "id": "correct-class",
   "metadata": {},
   "source": [
    "Now we have the indices of the two sets, let's turn them into their own datasets based on those indices."
   ]
  },
  {
   "cell_type": "code",
   "execution_count": 10,
   "id": "radio-phone",
   "metadata": {},
   "outputs": [
    {
     "data": {
      "text/plain": [
       "(7, 3)"
      ]
     },
     "execution_count": 10,
     "metadata": {},
     "output_type": "execute_result"
    }
   ],
   "source": [
    "len(train_slide_indices), len(valid_slide_indices)"
   ]
  },
  {
   "cell_type": "code",
   "execution_count": null,
   "id": "vital-trademark",
   "metadata": {},
   "outputs": [],
   "source": []
  }
 ],
 "metadata": {
  "kernelspec": {
   "display_name": "pathgen",
   "language": "python",
   "name": "pathgen"
  },
  "language_info": {
   "codemirror_mode": {
    "name": "ipython",
    "version": 3
   },
   "file_extension": ".py",
   "mimetype": "text/x-python",
   "name": "python",
   "nbconvert_exporter": "python",
   "pygments_lexer": "ipython3",
   "version": "3.6.10"
  }
 },
 "nbformat": 4,
 "nbformat_minor": 5
}
