{
 "cells": [
  {
   "cell_type": "markdown",
   "id": "fallen-genesis",
   "metadata": {},
   "source": [
    "# Overview of Pathology Data Generation Project"
   ]
  },
  {
   "cell_type": "markdown",
   "id": "continent-coordinate",
   "metadata": {},
   "source": [
    "There are the following steps:\n",
    "- preprocessing\n",
    "- sampling\n",
    "- training the gan for normal data\n",
    "- training the gan for tumor data\n",
    "- training and testing the patch classifier with real data\n",
    "- training and testing the patch classifier with fake data\n",
    "- training and testing the patch classifier with a mix of real and fake data"
   ]
  },
  {
   "cell_type": "markdown",
   "id": "sealed-couple",
   "metadata": {},
   "source": [
    "## 1 - Preprocessing\n",
    "This step reads in the train and test sets of the Camelyon16 data set and created indexes for all the 256 x 256 patches in them and their labels. Background patches are discarded. The two indexes are save in the experiment root in the`'test_index'` and `'train_index'` folders."
   ]
  },
  {
   "cell_type": "markdown",
   "id": "severe-framing",
   "metadata": {},
   "source": [
    "## 2 - Sampling\n",
    "In this step, we read in the test and train indexes (which index all of the possible patches in the data set) and sample the following:\n",
    "- 70,000 patches from the **training** slides to be used for training. Split evenly between tumor and normal patches. Exported to the `train_patches` folder.\n",
    "- 30,000 patches from the **training** slides to be used for validation. Split evenly between tumor and normal patches. Exported to the `valid_patches` folder.\n",
    "- 30,000 patches from the **testing** slides to be used for testing. Split evenly between tumor and normal patches. Exported to the `test_patches` folder."
   ]
  },
  {
   "cell_type": "code",
   "execution_count": null,
   "id": "quick-christianity",
   "metadata": {},
   "outputs": [],
   "source": []
  }
 ],
 "metadata": {
  "kernelspec": {
   "display_name": "pathgen",
   "language": "python",
   "name": "pathgen"
  },
  "language_info": {
   "codemirror_mode": {
    "name": "ipython",
    "version": 3
   },
   "file_extension": ".py",
   "mimetype": "text/x-python",
   "name": "python",
   "nbconvert_exporter": "python",
   "pygments_lexer": "ipython3",
   "version": "3.6.10"
  }
 },
 "nbformat": 4,
 "nbformat_minor": 5
}
