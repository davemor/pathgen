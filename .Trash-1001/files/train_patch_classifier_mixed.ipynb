{
 "cells": [
  {
   "cell_type": "code",
   "execution_count": 1,
   "metadata": {},
   "outputs": [],
   "source": [
    "from pathgen.utils.seeds import set_seed\n",
    "from pathgen.utils.paths import project_root\n",
    "\n",
    "experiment_name = \"one\"\n",
    "experiment_root = project_root() / \"experiments\" / experiment_name\n",
    "\n",
    "global_seed = 123\n",
    "set_seed(global_seed)"
   ]
  },
  {
   "cell_type": "code",
   "execution_count": 2,
   "metadata": {},
   "outputs": [],
   "source": [
    "import numpy as np\n",
    "import pandas as pd\n",
    "import pytorch_lightning as pl\n",
    "from pytorch_lightning.callbacks import ModelCheckpoint\n",
    "from torch.utils.data import DataLoader\n",
    "from torchvision.datasets import ImageFolder\n",
    "import torch\n",
    "from torch import nn\n",
    "import torch.nn.functional as F\n",
    "from pytorch_lightning.metrics import Accuracy\n",
    "\n",
    "def accuracy(logits, y):\n",
    "    # pred = torch.log_softmax(logits, dim=1)\n",
    "    # correct = pred.argmax(dim=1).eq(y).sum().item()\n",
    "    correct = logits.argmax(dim=1).eq(y).sum().item()\n",
    "    total = len(y)\n",
    "    accu = correct / total\n",
    "    return accu\n",
    "\n",
    "\n",
    "class PatchClassifier(pl.LightningModule):\n",
    "    def __init__(self, model, learning_rate=2e-4) -> None:\n",
    "        super().__init__()\n",
    "        self.model = model\n",
    "        #self.accuracy = Accuracy()\n",
    "        self.accuracy = accuracy\n",
    "        \n",
    "        # log hyperparameters\n",
    "        # self.save_hyperparameters()\n",
    "        self.learning_rate = learning_rate\n",
    "        self.test_pred = []\n",
    "        self.test_y = []\n",
    "\n",
    "    def training_step(self, batch, batch_idx):\n",
    "        x, y = batch\n",
    "        logits = self.model(x)\n",
    "        loss = F.nll_loss(logits, y)\n",
    "        \n",
    "        # training metrics\n",
    "        acc = accuracy(logits, y)\n",
    "        self.log('train_loss', loss, prog_bar=True)\n",
    "        self.log('train_acc', acc, prog_bar=True)\n",
    "        return loss\n",
    "    \n",
    "    def validation_step(self, batch, batch_idx):\n",
    "        x, y = batch\n",
    "        logits = self.model(x)\n",
    "        loss = F.nll_loss(logits, y)\n",
    "        \n",
    "        # training metrics\n",
    "        acc = accuracy(logits, y)\n",
    "        self.log('val_loss', loss, prog_bar=True)\n",
    "        self.log('val_acc', acc, prog_bar=True)\n",
    "        return loss\n",
    "    \n",
    "    def test_step(self, batch, batch_idx):\n",
    "        x, y = batch\n",
    "        logits = self.model(x)\n",
    "        loss = F.nll_loss(logits, y)\n",
    "        \n",
    "        # log the results so we can compute epoch wide metrics\n",
    "        pred = logits.argmax(dim=1)\n",
    "        pred_list = pred.cpu().numpy().tolist()\n",
    "        #print(pred_list)\n",
    "        y_list = y.cpu().numpy().tolist()\n",
    "        #print(y_list)\n",
    "        self.test_pred.append(pred_list)\n",
    "        self.test_y.append(y_list)\n",
    "        \n",
    "        # training metrics\n",
    "        acc = accuracy(logits, y)\n",
    "        self.log('test_loss', loss, prog_bar=True)\n",
    "        self.log('test_acc', acc, prog_bar=True)\n",
    "        return loss\n",
    "\n",
    "    def configure_optimizers(self):\n",
    "        optimizer = torch.optim.SGD(self.model.parameters(), \n",
    "                                    lr=0.01, \n",
    "                                    momentum=0.9, \n",
    "                                    weight_decay=0.0005)\n",
    "        scheduler = {\n",
    "            'scheduler': torch.optim.lr_scheduler.StepLR(optimizer, step_size=50000, gamma=0.5),\n",
    "            'interval': 'step' \n",
    "        }\n",
    "        return [optimizer], [scheduler]\n",
    "    \n",
    "    #def configure_optimizers(self):\n",
    "     #  optimizer = torch.optim.Adam(self.parameters(), lr=self.learning_rate)\n",
    "        #return optimizer    "
   ]
  },
  {
   "cell_type": "code",
   "execution_count": 3,
   "metadata": {},
   "outputs": [],
   "source": [
    "import torch\n",
    "from torch import nn\n",
    "import torch.nn.functional as F\n",
    "\n",
    "class Backbone(nn.Module):\n",
    "    def __init__(self, input_shape, num_classes):\n",
    "        super().__init__()\n",
    "        self.conv1 = nn.Conv2d(3, 32, 3, 1)\n",
    "        self.conv2 = nn.Conv2d(32, 32, 3, 1)\n",
    "        self.conv3 = nn.Conv2d(32, 64, 3, 1)\n",
    "        self.conv4 = nn.Conv2d(64, 64, 3, 1)\n",
    "\n",
    "        self.pool1 = torch.nn.MaxPool2d(2)\n",
    "        self.pool2 = torch.nn.MaxPool2d(2)\n",
    "        \n",
    "        n_sizes = self._get_conv_output(input_shape)\n",
    "\n",
    "        self.fc1 = nn.Linear(n_sizes, 512)\n",
    "        self.fc2 = nn.Linear(512, 128)\n",
    "        self.fc3 = nn.Linear(128, num_classes)\n",
    "\n",
    "    # returns the size of the output tensor going into Linear layer from the conv block.\n",
    "    def _get_conv_output(self, shape):\n",
    "        batch_size = 1\n",
    "        input = torch.autograd.Variable(torch.rand(batch_size, *shape))\n",
    "\n",
    "        output_feat = self._forward_features(input) \n",
    "        n_size = output_feat.data.view(batch_size, -1).size(1)\n",
    "        return n_size\n",
    "        \n",
    "    # returns the feature tensor from the conv block\n",
    "    def _forward_features(self, x):\n",
    "        x = F.relu(self.conv1(x))\n",
    "        x = self.pool1(F.relu(self.conv2(x)))\n",
    "        x = F.relu(self.conv3(x))\n",
    "        x = self.pool2(F.relu(self.conv4(x)))\n",
    "        return x\n",
    "    \n",
    "    # will be used during inference\n",
    "    def forward(self, x):\n",
    "       x = self._forward_features(x)\n",
    "       x = x.view(x.size(0), -1)\n",
    "       x = F.relu(self.fc1(x))\n",
    "       x = F.relu(self.fc2(x))\n",
    "       x = F.log_softmax(self.fc3(x), dim=1)\n",
    "       \n",
    "       return x"
   ]
  },
  {
   "cell_type": "code",
   "execution_count": 4,
   "metadata": {
    "scrolled": false
   },
   "outputs": [
    {
     "name": "stderr",
     "output_type": "stream",
     "text": [
      "/home/ubuntu/anaconda3/envs/pathgen/lib/python3.6/site-packages/pytorch_lightning/utilities/distributed.py:50: UserWarning: Checkpoint directory /home/ubuntu/pathgen/experiments/one/patch_model exists and is not empty.\n",
      "  warnings.warn(*args, **kwargs)\n",
      "GPU available: True, used: True\n",
      "TPU available: None, using: 0 TPU cores\n",
      "\n",
      "  | Name  | Type     | Params\n",
      "-----------------------------------\n",
      "0 | model | Backbone | 5.7 M \n",
      "-----------------------------------\n",
      "5.7 M     Trainable params\n",
      "0         Non-trainable params\n",
      "5.7 M     Total params\n",
      "22.679    Total estimated model params size (MB)\n"
     ]
    },
    {
     "name": "stdout",
     "output_type": "stream",
     "text": [
      "Epoch 0:  83%|████████▎ | 1563/1876 [00:16<00:03, 93.84it/s, loss=0.117, v_num=0, val_loss=0.693, val_acc=0.500, train_loss=0.036, train_acc=1.000]   \n",
      "Validating: 0it [00:00, ?it/s]\u001b[A\n",
      "Validating:   0%|          | 0/313 [00:00<?, ?it/s]\u001b[A\n",
      "Epoch 0:  84%|████████▎ | 1567/1876 [00:19<00:03, 82.42it/s, loss=0.117, v_num=0, val_loss=0.693, val_acc=0.500, train_loss=0.036, train_acc=1.000]\n",
      "Epoch 0:  85%|████████▍ | 1588/1876 [00:19<00:03, 83.08it/s, loss=0.117, v_num=0, val_loss=0.693, val_acc=0.500, train_loss=0.036, train_acc=1.000]\n",
      "Epoch 0:  86%|████████▌ | 1610/1876 [00:19<00:03, 83.79it/s, loss=0.117, v_num=0, val_loss=0.693, val_acc=0.500, train_loss=0.036, train_acc=1.000]\n",
      "Epoch 0:  87%|████████▋ | 1639/1876 [00:19<00:02, 84.85it/s, loss=0.117, v_num=0, val_loss=0.693, val_acc=0.500, train_loss=0.036, train_acc=1.000]\n",
      "Epoch 0:  89%|████████▉ | 1668/1876 [00:19<00:02, 85.86it/s, loss=0.117, v_num=0, val_loss=0.693, val_acc=0.500, train_loss=0.036, train_acc=1.000]\n",
      "Epoch 0:  90%|█████████ | 1697/1876 [00:19<00:02, 86.84it/s, loss=0.117, v_num=0, val_loss=0.693, val_acc=0.500, train_loss=0.036, train_acc=1.000]\n",
      "Epoch 0:  92%|█████████▏| 1726/1876 [00:19<00:01, 87.66it/s, loss=0.117, v_num=0, val_loss=0.693, val_acc=0.500, train_loss=0.036, train_acc=1.000]\n",
      "Epoch 0:  94%|█████████▎| 1755/1876 [00:19<00:01, 88.55it/s, loss=0.117, v_num=0, val_loss=0.693, val_acc=0.500, train_loss=0.036, train_acc=1.000]\n",
      "Validating:  61%|██████▏   | 192/313 [00:02<00:00, 166.50it/s]\u001b[A\n",
      "Epoch 0:  95%|█████████▌| 1784/1876 [00:19<00:01, 89.24it/s, loss=0.117, v_num=0, val_loss=0.693, val_acc=0.500, train_loss=0.036, train_acc=1.000]\n",
      "Epoch 0:  97%|█████████▋| 1813/1876 [00:20<00:00, 90.21it/s, loss=0.117, v_num=0, val_loss=0.693, val_acc=0.500, train_loss=0.036, train_acc=1.000]\n",
      "Epoch 0:  98%|█████████▊| 1843/1876 [00:20<00:00, 91.24it/s, loss=0.117, v_num=0, val_loss=0.693, val_acc=0.500, train_loss=0.036, train_acc=1.000]\n",
      "Epoch 0: 100%|██████████| 1876/1876 [00:20<00:00, 91.90it/s, loss=0.117, v_num=0, val_loss=0.122, val_acc=0.956, train_loss=0.0247, train_acc=1.000]\n",
      "Epoch 1:  83%|████████▎ | 1563/1876 [00:16<00:03, 92.03it/s, loss=0.0664, v_num=0, val_loss=0.122, val_acc=0.956, train_loss=0.0831, train_acc=0.969] \n",
      "Validating: 0it [00:00, ?it/s]\u001b[A\n",
      "Validating:   0%|          | 0/313 [00:00<?, ?it/s]\u001b[A\n",
      "Validating:   0%|          | 1/313 [00:01<09:09,  1.76s/it]\u001b[A\n",
      "Epoch 1:  85%|████████▍ | 1590/1876 [00:19<00:03, 82.60it/s, loss=0.0664, v_num=0, val_loss=0.122, val_acc=0.956, train_loss=0.0831, train_acc=0.969]\n",
      "Epoch 1:  86%|████████▋ | 1620/1876 [00:19<00:03, 83.48it/s, loss=0.0664, v_num=0, val_loss=0.122, val_acc=0.956, train_loss=0.0831, train_acc=0.969]\n",
      "Validating:  21%|██        | 66/313 [00:02<00:04, 61.69it/s]\u001b[A\n",
      "Epoch 1:  88%|████████▊ | 1650/1876 [00:19<00:02, 84.43it/s, loss=0.0664, v_num=0, val_loss=0.122, val_acc=0.956, train_loss=0.0831, train_acc=0.969]\n",
      "Epoch 1:  90%|████████▉ | 1680/1876 [00:19<00:02, 85.52it/s, loss=0.0664, v_num=0, val_loss=0.122, val_acc=0.956, train_loss=0.0831, train_acc=0.969]\n",
      "Epoch 1:  91%|█████████ | 1710/1876 [00:19<00:01, 86.54it/s, loss=0.0664, v_num=0, val_loss=0.122, val_acc=0.956, train_loss=0.0831, train_acc=0.969]\n",
      "Epoch 1:  93%|█████████▎| 1740/1876 [00:19<00:01, 87.57it/s, loss=0.0664, v_num=0, val_loss=0.122, val_acc=0.956, train_loss=0.0831, train_acc=0.969]\n",
      "Epoch 1:  94%|█████████▍| 1770/1876 [00:19<00:01, 88.55it/s, loss=0.0664, v_num=0, val_loss=0.122, val_acc=0.956, train_loss=0.0831, train_acc=0.969]\n",
      "Epoch 1:  96%|█████████▌| 1800/1876 [00:20<00:00, 89.53it/s, loss=0.0664, v_num=0, val_loss=0.122, val_acc=0.956, train_loss=0.0831, train_acc=0.969]\n",
      "Epoch 1:  98%|█████████▊| 1830/1876 [00:20<00:00, 90.53it/s, loss=0.0664, v_num=0, val_loss=0.122, val_acc=0.956, train_loss=0.0831, train_acc=0.969]\n",
      "Epoch 1: 100%|██████████| 1876/1876 [00:20<00:00, 91.71it/s, loss=0.0664, v_num=0, val_loss=0.0762, val_acc=0.970, train_loss=0.0216, train_acc=1.000]\n",
      "Epoch 2:  83%|████████▎ | 1563/1876 [00:17<00:03, 90.43it/s, loss=0.0577, v_num=0, val_loss=0.0762, val_acc=0.970, train_loss=0.0889, train_acc=0.969] \n",
      "Validating: 0it [00:00, ?it/s]\u001b[A\n",
      "Validating:   0%|          | 0/313 [00:00<?, ?it/s]\u001b[A\n",
      "Epoch 2:  85%|████████▍ | 1590/1876 [00:19<00:03, 80.90it/s, loss=0.0577, v_num=0, val_loss=0.0762, val_acc=0.970, train_loss=0.0889, train_acc=0.969]\n",
      "Epoch 2:  86%|████████▋ | 1620/1876 [00:19<00:03, 81.87it/s, loss=0.0577, v_num=0, val_loss=0.0762, val_acc=0.970, train_loss=0.0889, train_acc=0.969]\n",
      "Validating:  20%|██        | 63/313 [00:02<00:05, 44.66it/s]\u001b[A\n",
      "Epoch 2:  88%|████████▊ | 1650/1876 [00:19<00:02, 82.71it/s, loss=0.0577, v_num=0, val_loss=0.0762, val_acc=0.970, train_loss=0.0889, train_acc=0.969]\n",
      "Epoch 2:  90%|████████▉ | 1680/1876 [00:20<00:02, 83.64it/s, loss=0.0577, v_num=0, val_loss=0.0762, val_acc=0.970, train_loss=0.0889, train_acc=0.969]\n",
      "Epoch 2:  91%|█████████ | 1710/1876 [00:20<00:01, 84.68it/s, loss=0.0577, v_num=0, val_loss=0.0762, val_acc=0.970, train_loss=0.0889, train_acc=0.969]\n",
      "Epoch 2:  93%|█████████▎| 1740/1876 [00:20<00:01, 85.68it/s, loss=0.0577, v_num=0, val_loss=0.0762, val_acc=0.970, train_loss=0.0889, train_acc=0.969]\n",
      "Epoch 2:  94%|█████████▍| 1770/1876 [00:20<00:01, 86.64it/s, loss=0.0577, v_num=0, val_loss=0.0762, val_acc=0.970, train_loss=0.0889, train_acc=0.969]\n",
      "Epoch 2:  96%|█████████▌| 1800/1876 [00:20<00:00, 87.63it/s, loss=0.0577, v_num=0, val_loss=0.0762, val_acc=0.970, train_loss=0.0889, train_acc=0.969]\n",
      "Epoch 2:  98%|█████████▊| 1830/1876 [00:20<00:00, 88.65it/s, loss=0.0577, v_num=0, val_loss=0.0762, val_acc=0.970, train_loss=0.0889, train_acc=0.969]\n",
      "Epoch 2:  99%|█████████▉| 1863/1876 [00:20<00:00, 89.81it/s, loss=0.0577, v_num=0, val_loss=0.0762, val_acc=0.970, train_loss=0.0889, train_acc=0.969]\n",
      "Epoch 2: 100%|██████████| 1876/1876 [00:20<00:00, 89.68it/s, loss=0.0577, v_num=0, val_loss=0.066, val_acc=0.976, train_loss=0.0358, train_acc=1.000] \n",
      "Epoch 3:  83%|████████▎ | 1563/1876 [00:17<00:03, 91.47it/s, loss=0.0578, v_num=0, val_loss=0.066, val_acc=0.976, train_loss=0.0972, train_acc=0.938] \n",
      "Validating: 0it [00:00, ?it/s]\u001b[A\n",
      "Validating:   0%|          | 0/313 [00:00<?, ?it/s]\u001b[A\n",
      "Epoch 3:  84%|████████▍ | 1584/1876 [00:19<00:03, 83.02it/s, loss=0.0578, v_num=0, val_loss=0.066, val_acc=0.976, train_loss=0.0972, train_acc=0.938]\n",
      "Validating:   9%|▉         | 28/313 [00:01<00:12, 22.22it/s]\u001b[A\n",
      "Epoch 3:  86%|████████▌ | 1617/1876 [00:19<00:03, 84.15it/s, loss=0.0578, v_num=0, val_loss=0.066, val_acc=0.976, train_loss=0.0972, train_acc=0.938]\n",
      "Epoch 3:  88%|████████▊ | 1650/1876 [00:19<00:02, 85.27it/s, loss=0.0578, v_num=0, val_loss=0.066, val_acc=0.976, train_loss=0.0972, train_acc=0.938]\n",
      "Epoch 3:  90%|████████▉ | 1683/1876 [00:19<00:02, 86.42it/s, loss=0.0578, v_num=0, val_loss=0.066, val_acc=0.976, train_loss=0.0972, train_acc=0.938]\n",
      "Epoch 3:  91%|█████████▏| 1716/1876 [00:19<00:01, 87.55it/s, loss=0.0578, v_num=0, val_loss=0.066, val_acc=0.976, train_loss=0.0972, train_acc=0.938]\n",
      "Validating:  50%|█████     | 157/313 [00:02<00:00, 156.40it/s]\u001b[A\n",
      "Epoch 3:  93%|█████████▎| 1749/1876 [00:19<00:01, 88.64it/s, loss=0.0578, v_num=0, val_loss=0.066, val_acc=0.976, train_loss=0.0972, train_acc=0.938]\n",
      "Epoch 3:  95%|█████████▍| 1782/1876 [00:19<00:01, 89.75it/s, loss=0.0578, v_num=0, val_loss=0.066, val_acc=0.976, train_loss=0.0972, train_acc=0.938]\n",
      "Epoch 3:  97%|█████████▋| 1815/1876 [00:19<00:00, 90.77it/s, loss=0.0578, v_num=0, val_loss=0.066, val_acc=0.976, train_loss=0.0972, train_acc=0.938]\n",
      "Epoch 3:  99%|█████████▊| 1848/1876 [00:20<00:00, 91.90it/s, loss=0.0578, v_num=0, val_loss=0.066, val_acc=0.976, train_loss=0.0972, train_acc=0.938]\n",
      "Epoch 3: 100%|██████████| 1876/1876 [00:20<00:00, 92.34it/s, loss=0.0578, v_num=0, val_loss=0.0612, val_acc=0.978, train_loss=0.0948, train_acc=0.938]\n",
      "Epoch 4:  83%|████████▎ | 1563/1876 [00:18<00:03, 85.62it/s, loss=0.0447, v_num=0, val_loss=0.0612, val_acc=0.978, train_loss=0.0733, train_acc=0.938]  \n",
      "Validating: 0it [00:00, ?it/s]\u001b[A\n",
      "Validating:   0%|          | 0/313 [00:00<?, ?it/s]\u001b[A\n",
      "Epoch 4:  84%|████████▍ | 1584/1876 [00:20<00:03, 77.96it/s, loss=0.0447, v_num=0, val_loss=0.0612, val_acc=0.978, train_loss=0.0733, train_acc=0.938]\n"
     ]
    },
    {
     "name": "stdout",
     "output_type": "stream",
     "text": [
      "Validating:   7%|▋         | 23/313 [00:01<00:16, 17.56it/s]\u001b[A\n",
      "Epoch 4:  86%|████████▌ | 1617/1876 [00:20<00:03, 78.92it/s, loss=0.0447, v_num=0, val_loss=0.0612, val_acc=0.978, train_loss=0.0733, train_acc=0.938]\n",
      "Epoch 4:  88%|████████▊ | 1650/1876 [00:20<00:02, 79.92it/s, loss=0.0447, v_num=0, val_loss=0.0612, val_acc=0.978, train_loss=0.0733, train_acc=0.938]\n",
      "Validating:  30%|██▉       | 93/313 [00:02<00:02, 89.61it/s]\u001b[A\n",
      "Epoch 4:  90%|████████▉ | 1683/1876 [00:20<00:02, 80.90it/s, loss=0.0447, v_num=0, val_loss=0.0612, val_acc=0.978, train_loss=0.0733, train_acc=0.938]\n",
      "Epoch 4:  91%|█████████▏| 1716/1876 [00:20<00:01, 81.85it/s, loss=0.0447, v_num=0, val_loss=0.0612, val_acc=0.978, train_loss=0.0733, train_acc=0.938]\n",
      "Validating:  51%|█████     | 159/313 [00:02<00:01, 149.77it/s]\u001b[A\n",
      "Epoch 4:  93%|█████████▎| 1749/1876 [00:21<00:01, 82.80it/s, loss=0.0447, v_num=0, val_loss=0.0612, val_acc=0.978, train_loss=0.0733, train_acc=0.938]\n",
      "Epoch 4:  95%|█████████▍| 1782/1876 [00:21<00:01, 83.66it/s, loss=0.0447, v_num=0, val_loss=0.0612, val_acc=0.978, train_loss=0.0733, train_acc=0.938]\n",
      "Validating:  72%|███████▏  | 226/313 [00:02<00:00, 182.50it/s]\u001b[A\n",
      "Epoch 4:  97%|█████████▋| 1815/1876 [00:21<00:00, 84.53it/s, loss=0.0447, v_num=0, val_loss=0.0612, val_acc=0.978, train_loss=0.0733, train_acc=0.938]\n",
      "Epoch 4:  99%|█████████▊| 1848/1876 [00:21<00:00, 85.59it/s, loss=0.0447, v_num=0, val_loss=0.0612, val_acc=0.978, train_loss=0.0733, train_acc=0.938]\n",
      "Epoch 4: 100%|██████████| 1876/1876 [00:21<00:00, 86.11it/s, loss=0.0447, v_num=0, val_loss=0.0622, val_acc=0.977, train_loss=0.0304, train_acc=1.000]\n",
      "Epoch 5:  83%|████████▎ | 1563/1876 [00:18<00:03, 86.47it/s, loss=0.0359, v_num=0, val_loss=0.0622, val_acc=0.977, train_loss=0.0684, train_acc=0.938]  \n",
      "Validating: 0it [00:00, ?it/s]\u001b[A\n",
      "Validating:   0%|          | 0/313 [00:00<?, ?it/s]\u001b[A\n",
      "Epoch 5:  84%|████████▍ | 1584/1876 [00:20<00:03, 78.68it/s, loss=0.0359, v_num=0, val_loss=0.0622, val_acc=0.977, train_loss=0.0684, train_acc=0.938]\n",
      "Validating:   9%|▊         | 27/313 [00:01<00:13, 20.79it/s]\u001b[A\n",
      "Epoch 5:  86%|████████▌ | 1617/1876 [00:20<00:03, 79.82it/s, loss=0.0359, v_num=0, val_loss=0.0622, val_acc=0.977, train_loss=0.0684, train_acc=0.938]\n",
      "Epoch 5:  88%|████████▊ | 1650/1876 [00:20<00:02, 80.98it/s, loss=0.0359, v_num=0, val_loss=0.0622, val_acc=0.977, train_loss=0.0684, train_acc=0.938]\n",
      "Epoch 5:  90%|████████▉ | 1683/1876 [00:20<00:02, 82.09it/s, loss=0.0359, v_num=0, val_loss=0.0622, val_acc=0.977, train_loss=0.0684, train_acc=0.938]\n",
      "Epoch 5:  91%|█████████▏| 1716/1876 [00:20<00:01, 83.24it/s, loss=0.0359, v_num=0, val_loss=0.0622, val_acc=0.977, train_loss=0.0684, train_acc=0.938]\n",
      "Epoch 5:  93%|█████████▎| 1749/1876 [00:20<00:01, 84.28it/s, loss=0.0359, v_num=0, val_loss=0.0622, val_acc=0.977, train_loss=0.0684, train_acc=0.938]\n",
      "Epoch 5:  95%|█████████▍| 1782/1876 [00:20<00:01, 85.36it/s, loss=0.0359, v_num=0, val_loss=0.0622, val_acc=0.977, train_loss=0.0684, train_acc=0.938]\n",
      "Epoch 5:  97%|█████████▋| 1815/1876 [00:21<00:00, 86.41it/s, loss=0.0359, v_num=0, val_loss=0.0622, val_acc=0.977, train_loss=0.0684, train_acc=0.938]\n",
      "Epoch 5:  99%|█████████▊| 1848/1876 [00:21<00:00, 87.49it/s, loss=0.0359, v_num=0, val_loss=0.0622, val_acc=0.977, train_loss=0.0684, train_acc=0.938]\n",
      "Epoch 5: 100%|██████████| 1876/1876 [00:21<00:00, 88.00it/s, loss=0.0359, v_num=0, val_loss=0.0721, val_acc=0.974, train_loss=0.0194, train_acc=1.000]\n",
      "Epoch 6:  83%|████████▎ | 1563/1876 [00:17<00:03, 88.38it/s, loss=0.0297, v_num=0, val_loss=0.0721, val_acc=0.974, train_loss=0.0411, train_acc=1.000]  \n",
      "Validating: 0it [00:00, ?it/s]\u001b[A\n",
      "Validating:   0%|          | 0/313 [00:00<?, ?it/s]\u001b[A\n",
      "Epoch 6:  84%|████████▍ | 1584/1876 [00:19<00:03, 79.88it/s, loss=0.0297, v_num=0, val_loss=0.0721, val_acc=0.974, train_loss=0.0411, train_acc=1.000]\n",
      "Validating:   9%|▊         | 27/313 [00:01<00:14, 19.79it/s]\u001b[A\n",
      "Epoch 6:  86%|████████▌ | 1617/1876 [00:19<00:03, 80.92it/s, loss=0.0297, v_num=0, val_loss=0.0721, val_acc=0.974, train_loss=0.0411, train_acc=1.000]\n",
      "Epoch 6:  88%|████████▊ | 1650/1876 [00:20<00:02, 82.04it/s, loss=0.0297, v_num=0, val_loss=0.0721, val_acc=0.974, train_loss=0.0411, train_acc=1.000]\n",
      "Epoch 6:  90%|████████▉ | 1683/1876 [00:20<00:02, 83.14it/s, loss=0.0297, v_num=0, val_loss=0.0721, val_acc=0.974, train_loss=0.0411, train_acc=1.000]\n",
      "Validating:  40%|███▉      | 125/313 [00:02<00:01, 124.10it/s]\u001b[A\n",
      "Epoch 6:  91%|█████████▏| 1716/1876 [00:20<00:01, 84.23it/s, loss=0.0297, v_num=0, val_loss=0.0721, val_acc=0.974, train_loss=0.0411, train_acc=1.000]\n",
      "Epoch 6:  93%|█████████▎| 1749/1876 [00:20<00:01, 85.30it/s, loss=0.0297, v_num=0, val_loss=0.0721, val_acc=0.974, train_loss=0.0411, train_acc=1.000]\n",
      "Epoch 6:  95%|█████████▍| 1782/1876 [00:20<00:01, 86.34it/s, loss=0.0297, v_num=0, val_loss=0.0721, val_acc=0.974, train_loss=0.0411, train_acc=1.000]\n",
      "Epoch 6:  97%|█████████▋| 1815/1876 [00:20<00:00, 87.34it/s, loss=0.0297, v_num=0, val_loss=0.0721, val_acc=0.974, train_loss=0.0411, train_acc=1.000]\n",
      "Validating:  82%|████████▏ | 256/313 [00:02<00:00, 216.47it/s]\u001b[A\n",
      "Epoch 6: 100%|██████████| 1876/1876 [00:21<00:00, 89.02it/s, loss=0.0297, v_num=0, val_loss=0.0785, val_acc=0.973, train_loss=0.0104, train_acc=1.000]\n",
      "Epoch 7:  83%|████████▎ | 1563/1876 [00:17<00:03, 87.55it/s, loss=0.0218, v_num=0, val_loss=0.0785, val_acc=0.973, train_loss=0.0117, train_acc=1.000]  \n",
      "Validating: 0it [00:00, ?it/s]\u001b[A\n",
      "Validating:   0%|          | 0/313 [00:00<?, ?it/s]\u001b[A\n",
      "Epoch 7:  84%|████████▍ | 1584/1876 [00:19<00:03, 79.70it/s, loss=0.0218, v_num=0, val_loss=0.0785, val_acc=0.973, train_loss=0.0117, train_acc=1.000]\n",
      "Epoch 7:  86%|████████▌ | 1617/1876 [00:20<00:03, 80.84it/s, loss=0.0218, v_num=0, val_loss=0.0785, val_acc=0.973, train_loss=0.0117, train_acc=1.000]\n",
      "Validating:  19%|█▉        | 61/313 [00:01<00:04, 51.15it/s]\u001b[A\n",
      "Epoch 7:  88%|████████▊ | 1650/1876 [00:20<00:02, 81.90it/s, loss=0.0218, v_num=0, val_loss=0.0785, val_acc=0.973, train_loss=0.0117, train_acc=1.000]\n",
      "Epoch 7:  90%|████████▉ | 1683/1876 [00:20<00:02, 83.01it/s, loss=0.0218, v_num=0, val_loss=0.0785, val_acc=0.973, train_loss=0.0117, train_acc=1.000]\n",
      "Epoch 7:  91%|█████████▏| 1716/1876 [00:20<00:01, 84.10it/s, loss=0.0218, v_num=0, val_loss=0.0785, val_acc=0.973, train_loss=0.0117, train_acc=1.000]\n",
      "Epoch 7:  93%|█████████▎| 1749/1876 [00:20<00:01, 85.13it/s, loss=0.0218, v_num=0, val_loss=0.0785, val_acc=0.973, train_loss=0.0117, train_acc=1.000]\n",
      "Validating:  60%|██████    | 189/313 [00:02<00:00, 172.86it/s]\u001b[A\n",
      "Epoch 7:  95%|█████████▍| 1782/1876 [00:20<00:01, 86.20it/s, loss=0.0218, v_num=0, val_loss=0.0785, val_acc=0.973, train_loss=0.0117, train_acc=1.000]\n",
      "Epoch 7:  97%|█████████▋| 1815/1876 [00:20<00:00, 87.24it/s, loss=0.0218, v_num=0, val_loss=0.0785, val_acc=0.973, train_loss=0.0117, train_acc=1.000]\n",
      "Epoch 7:  99%|█████████▊| 1848/1876 [00:20<00:00, 88.36it/s, loss=0.0218, v_num=0, val_loss=0.0785, val_acc=0.973, train_loss=0.0117, train_acc=1.000]\n",
      "Epoch 7: 100%|██████████| 1876/1876 [00:21<00:00, 88.94it/s, loss=0.0218, v_num=0, val_loss=0.0848, val_acc=0.974, train_loss=0.00578, train_acc=1.000]\n",
      "Epoch 8:  83%|████████▎ | 1563/1876 [00:18<00:03, 85.91it/s, loss=0.0219, v_num=0, val_loss=0.0848, val_acc=0.974, train_loss=0.0112, train_acc=1.000]  \n",
      "Validating: 0it [00:00, ?it/s]\u001b[A\n",
      "Validating:   0%|          | 0/313 [00:00<?, ?it/s]\u001b[A\n",
      "Validating:   0%|          | 1/313 [00:01<08:56,  1.72s/it]\u001b[A\n",
      "Epoch 8:  84%|████████▍ | 1584/1876 [00:20<00:03, 77.98it/s, loss=0.0219, v_num=0, val_loss=0.0848, val_acc=0.974, train_loss=0.0112, train_acc=1.000]\n",
      "Epoch 8:  86%|████████▌ | 1617/1876 [00:20<00:03, 78.97it/s, loss=0.0219, v_num=0, val_loss=0.0848, val_acc=0.974, train_loss=0.0112, train_acc=1.000]\n",
      "Epoch 8:  88%|████████▊ | 1650/1876 [00:20<00:02, 80.08it/s, loss=0.0219, v_num=0, val_loss=0.0848, val_acc=0.974, train_loss=0.0112, train_acc=1.000]\n",
      "Epoch 8:  90%|████████▉ | 1683/1876 [00:20<00:02, 81.21it/s, loss=0.0219, v_num=0, val_loss=0.0848, val_acc=0.974, train_loss=0.0112, train_acc=1.000]\n",
      "Validating:  39%|███▉      | 123/313 [00:02<00:01, 123.67it/s]\u001b[A\n"
     ]
    },
    {
     "name": "stdout",
     "output_type": "stream",
     "text": [
      "Epoch 8:  91%|█████████▏| 1716/1876 [00:20<00:01, 82.28it/s, loss=0.0219, v_num=0, val_loss=0.0848, val_acc=0.974, train_loss=0.0112, train_acc=1.000]\n",
      "Epoch 8:  93%|█████████▎| 1749/1876 [00:20<00:01, 83.33it/s, loss=0.0219, v_num=0, val_loss=0.0848, val_acc=0.974, train_loss=0.0112, train_acc=1.000]\n",
      "Epoch 8:  95%|█████████▍| 1782/1876 [00:21<00:01, 84.37it/s, loss=0.0219, v_num=0, val_loss=0.0848, val_acc=0.974, train_loss=0.0112, train_acc=1.000]\n",
      "Validating:  72%|███████▏  | 224/313 [00:02<00:00, 206.58it/s]\u001b[A\n",
      "Epoch 8:  97%|█████████▋| 1815/1876 [00:21<00:00, 85.41it/s, loss=0.0219, v_num=0, val_loss=0.0848, val_acc=0.974, train_loss=0.0112, train_acc=1.000]\n",
      "Epoch 8: 100%|██████████| 1876/1876 [00:21<00:00, 87.02it/s, loss=0.0219, v_num=0, val_loss=0.0771, val_acc=0.976, train_loss=0.00264, train_acc=1.000]\n",
      "Epoch 9:  83%|████████▎ | 1563/1876 [00:18<00:03, 86.29it/s, loss=0.0151, v_num=0, val_loss=0.0771, val_acc=0.976, train_loss=0.00667, train_acc=1.000]  \n",
      "Validating: 0it [00:00, ?it/s]\u001b[A\n",
      "Validating:   0%|          | 0/313 [00:00<?, ?it/s]\u001b[A\n",
      "Validating:   0%|          | 1/313 [00:01<09:05,  1.75s/it]\u001b[A\n",
      "Epoch 9:  84%|████████▍ | 1584/1876 [00:20<00:03, 78.03it/s, loss=0.0151, v_num=0, val_loss=0.0771, val_acc=0.976, train_loss=0.00667, train_acc=1.000]\n",
      "Epoch 9:  86%|████████▌ | 1617/1876 [00:20<00:03, 79.14it/s, loss=0.0151, v_num=0, val_loss=0.0771, val_acc=0.976, train_loss=0.00667, train_acc=1.000]\n",
      "Validating:  20%|██        | 64/313 [00:02<00:03, 64.11it/s]\u001b[A\n",
      "Epoch 9:  88%|████████▊ | 1650/1876 [00:20<00:02, 80.20it/s, loss=0.0151, v_num=0, val_loss=0.0771, val_acc=0.976, train_loss=0.00667, train_acc=1.000]\n",
      "Epoch 9:  90%|████████▉ | 1683/1876 [00:20<00:02, 81.30it/s, loss=0.0151, v_num=0, val_loss=0.0771, val_acc=0.976, train_loss=0.00667, train_acc=1.000]\n",
      "Epoch 9:  91%|█████████▏| 1716/1876 [00:20<00:01, 82.37it/s, loss=0.0151, v_num=0, val_loss=0.0771, val_acc=0.976, train_loss=0.00667, train_acc=1.000]\n",
      "Epoch 9:  93%|█████████▎| 1749/1876 [00:20<00:01, 83.42it/s, loss=0.0151, v_num=0, val_loss=0.0771, val_acc=0.976, train_loss=0.00667, train_acc=1.000]\n",
      "Validating:  62%|██████▏   | 194/313 [00:02<00:00, 183.39it/s]\u001b[A\n",
      "Epoch 9:  95%|█████████▍| 1782/1876 [00:21<00:01, 84.36it/s, loss=0.0151, v_num=0, val_loss=0.0771, val_acc=0.976, train_loss=0.00667, train_acc=1.000]\n",
      "Epoch 9:  97%|█████████▋| 1815/1876 [00:21<00:00, 85.30it/s, loss=0.0151, v_num=0, val_loss=0.0771, val_acc=0.976, train_loss=0.00667, train_acc=1.000]\n",
      "Epoch 9:  99%|█████████▊| 1848/1876 [00:21<00:00, 86.33it/s, loss=0.0151, v_num=0, val_loss=0.0771, val_acc=0.976, train_loss=0.00667, train_acc=1.000]\n",
      "Epoch 9: 100%|██████████| 1876/1876 [00:21<00:00, 86.77it/s, loss=0.0151, v_num=0, val_loss=0.0876, val_acc=0.975, train_loss=0.00333, train_acc=1.000]\n",
      "Epoch 9: 100%|██████████| 1876/1876 [00:21<00:00, 86.71it/s, loss=0.0151, v_num=0, val_loss=0.0876, val_acc=0.975, train_loss=0.00333, train_acc=1.000]\n",
      "CPU times: user 2min 41s, sys: 50.2 s, total: 3min 31s\n",
      "Wall time: 3min 37s\n"
     ]
    },
    {
     "data": {
      "text/plain": [
       "1"
      ]
     },
     "execution_count": 4,
     "metadata": {},
     "output_type": "execute_result"
    }
   ],
   "source": [
    "%%time\n",
    "\n",
    "from pytorch_lightning.callbacks import ModelCheckpoint\n",
    "from pytorch_lightning.callbacks.early_stopping import EarlyStopping\n",
    "from pytorch_lightning import loggers as pl_loggers\n",
    "import torchvision.transforms as transforms\n",
    "\n",
    "# prepare our data\n",
    "batch_size = 32\n",
    "\n",
    "transform = transforms.Compose([\n",
    "    transforms.Resize((64, 64)),\n",
    "    transforms.ToTensor(),\n",
    "    transforms.Normalize((0.5, 0.5, 0.5), (0.5, 0.5, 0.5))\n",
    "])\n",
    "\n",
    "# train_set = ImageFolder(experiment_root / \"training_patches\", transform=transform)\n",
    "# valid_set = ImageFolder(experiment_root / \"validation_patches\", transform=transform)\n",
    "\n",
    "dataset = ImageFolder(experiment_root / 'mixed_patches', transform=transform)  # 60,000 samples\n",
    "train_set, valid_set = torch.utils.data.random_split(dataset, [50000, 10000])\n",
    "\n",
    "train_loader = DataLoader(train_set, batch_size=batch_size, worker_init_fn=np.random.seed(global_seed), num_workers=32)\n",
    "valid_loader = DataLoader(valid_set, batch_size=batch_size, worker_init_fn=np.random.seed(global_seed), num_workers=32)\n",
    "\n",
    "# configure logging and checkpoints\n",
    "checkpoint_callback = ModelCheckpoint(\n",
    "    monitor=\"val_loss\",\n",
    "    dirpath=experiment_root / \"patch_model\",\n",
    "    filename=f\"checkpoint.ckpt\",\n",
    "    save_top_k=1,\n",
    "    mode=\"min\",\n",
    ")\n",
    "\n",
    "#early_stop_callback = EarlyStopping(\n",
    "#    monitor='val_accuracy',\n",
    "#    min_delta=0.00,\n",
    "#    patience=5,\n",
    "#    verbose=False,\n",
    "#    mode='max'\n",
    "#)\n",
    "\n",
    "csv_logger = pl_loggers.CSVLogger(experiment_root / 'logs', name='patch_classifier_mixed', version=0)\n",
    "\n",
    "# train our model\n",
    "model = Backbone((3, 64, 64), 2)\n",
    "classifier = PatchClassifier(model)\n",
    "trainer = pl.Trainer(callbacks=[checkpoint_callback], log_every_n_steps=50, gpus=1, max_epochs=10, logger=csv_logger, auto_select_gpus=False)\n",
    "trainer.fit(classifier, train_dataloader=train_loader, val_dataloaders=valid_loader)"
   ]
  },
  {
   "cell_type": "code",
   "execution_count": 5,
   "metadata": {},
   "outputs": [
    {
     "name": "stdout",
     "output_type": "stream",
     "text": [
      "Testing: 100%|██████████| 1563/1563 [00:08<00:00, 177.57it/s]\n",
      "--------------------------------------------------------------------------------\n",
      "DATALOADER:0 TEST RESULTS\n",
      "{'test_acc': 0.9814800024032593, 'test_loss': 0.050449188798666}\n",
      "--------------------------------------------------------------------------------\n"
     ]
    },
    {
     "data": {
      "text/plain": [
       "[{'test_loss': 0.050449188798666, 'test_acc': 0.9814800024032593}]"
      ]
     },
     "execution_count": 5,
     "metadata": {},
     "output_type": "execute_result"
    }
   ],
   "source": [
    "# test\n",
    "test_set = ImageFolder(experiment_root / 'camelyon16_patches' / 'test', transform=transform)\n",
    "test_loader = DataLoader(train_set, batch_size=batch_size, worker_init_fn=np.random.seed(global_seed), num_workers=32)\n",
    "trainer.test(test_dataloaders=test_loader)"
   ]
  },
  {
   "cell_type": "code",
   "execution_count": 6,
   "metadata": {},
   "outputs": [
    {
     "data": {
      "text/plain": [
       "20000"
      ]
     },
     "execution_count": 6,
     "metadata": {},
     "output_type": "execute_result"
    }
   ],
   "source": [
    "len(test_set)"
   ]
  },
  {
   "cell_type": "code",
   "execution_count": 7,
   "metadata": {},
   "outputs": [
    {
     "data": {
      "text/html": [
       "<div>\n",
       "<style scoped>\n",
       "    .dataframe tbody tr th:only-of-type {\n",
       "        vertical-align: middle;\n",
       "    }\n",
       "\n",
       "    .dataframe tbody tr th {\n",
       "        vertical-align: top;\n",
       "    }\n",
       "\n",
       "    .dataframe thead th {\n",
       "        text-align: right;\n",
       "    }\n",
       "</style>\n",
       "<table border=\"1\" class=\"dataframe\">\n",
       "  <thead>\n",
       "    <tr style=\"text-align: right;\">\n",
       "      <th></th>\n",
       "      <th>train_loss</th>\n",
       "      <th>train_acc</th>\n",
       "      <th>epoch</th>\n",
       "      <th>step</th>\n",
       "      <th>val_loss</th>\n",
       "      <th>val_acc</th>\n",
       "      <th>test_loss</th>\n",
       "      <th>test_acc</th>\n",
       "    </tr>\n",
       "  </thead>\n",
       "  <tbody>\n",
       "    <tr>\n",
       "      <th>0</th>\n",
       "      <td>0.667039</td>\n",
       "      <td>0.56250</td>\n",
       "      <td>0</td>\n",
       "      <td>49</td>\n",
       "      <td>NaN</td>\n",
       "      <td>NaN</td>\n",
       "      <td>NaN</td>\n",
       "      <td>NaN</td>\n",
       "    </tr>\n",
       "    <tr>\n",
       "      <th>1</th>\n",
       "      <td>0.421971</td>\n",
       "      <td>0.62500</td>\n",
       "      <td>0</td>\n",
       "      <td>99</td>\n",
       "      <td>NaN</td>\n",
       "      <td>NaN</td>\n",
       "      <td>NaN</td>\n",
       "      <td>NaN</td>\n",
       "    </tr>\n",
       "    <tr>\n",
       "      <th>2</th>\n",
       "      <td>0.202807</td>\n",
       "      <td>0.93750</td>\n",
       "      <td>0</td>\n",
       "      <td>149</td>\n",
       "      <td>NaN</td>\n",
       "      <td>NaN</td>\n",
       "      <td>NaN</td>\n",
       "      <td>NaN</td>\n",
       "    </tr>\n",
       "    <tr>\n",
       "      <th>3</th>\n",
       "      <td>0.065137</td>\n",
       "      <td>1.00000</td>\n",
       "      <td>0</td>\n",
       "      <td>199</td>\n",
       "      <td>NaN</td>\n",
       "      <td>NaN</td>\n",
       "      <td>NaN</td>\n",
       "      <td>NaN</td>\n",
       "    </tr>\n",
       "    <tr>\n",
       "      <th>4</th>\n",
       "      <td>0.137116</td>\n",
       "      <td>0.96875</td>\n",
       "      <td>0</td>\n",
       "      <td>249</td>\n",
       "      <td>NaN</td>\n",
       "      <td>NaN</td>\n",
       "      <td>NaN</td>\n",
       "      <td>NaN</td>\n",
       "    </tr>\n",
       "    <tr>\n",
       "      <th>...</th>\n",
       "      <td>...</td>\n",
       "      <td>...</td>\n",
       "      <td>...</td>\n",
       "      <td>...</td>\n",
       "      <td>...</td>\n",
       "      <td>...</td>\n",
       "      <td>...</td>\n",
       "      <td>...</td>\n",
       "    </tr>\n",
       "    <tr>\n",
       "      <th>318</th>\n",
       "      <td>0.003338</td>\n",
       "      <td>1.00000</td>\n",
       "      <td>9</td>\n",
       "      <td>15499</td>\n",
       "      <td>NaN</td>\n",
       "      <td>NaN</td>\n",
       "      <td>NaN</td>\n",
       "      <td>NaN</td>\n",
       "    </tr>\n",
       "    <tr>\n",
       "      <th>319</th>\n",
       "      <td>0.002439</td>\n",
       "      <td>1.00000</td>\n",
       "      <td>9</td>\n",
       "      <td>15549</td>\n",
       "      <td>NaN</td>\n",
       "      <td>NaN</td>\n",
       "      <td>NaN</td>\n",
       "      <td>NaN</td>\n",
       "    </tr>\n",
       "    <tr>\n",
       "      <th>320</th>\n",
       "      <td>0.028789</td>\n",
       "      <td>0.96875</td>\n",
       "      <td>9</td>\n",
       "      <td>15599</td>\n",
       "      <td>NaN</td>\n",
       "      <td>NaN</td>\n",
       "      <td>NaN</td>\n",
       "      <td>NaN</td>\n",
       "    </tr>\n",
       "    <tr>\n",
       "      <th>321</th>\n",
       "      <td>NaN</td>\n",
       "      <td>NaN</td>\n",
       "      <td>9</td>\n",
       "      <td>15629</td>\n",
       "      <td>0.087576</td>\n",
       "      <td>0.9748</td>\n",
       "      <td>NaN</td>\n",
       "      <td>NaN</td>\n",
       "    </tr>\n",
       "    <tr>\n",
       "      <th>322</th>\n",
       "      <td>NaN</td>\n",
       "      <td>NaN</td>\n",
       "      <td>9</td>\n",
       "      <td>15630</td>\n",
       "      <td>NaN</td>\n",
       "      <td>NaN</td>\n",
       "      <td>0.050449</td>\n",
       "      <td>0.98148</td>\n",
       "    </tr>\n",
       "  </tbody>\n",
       "</table>\n",
       "<p>323 rows × 8 columns</p>\n",
       "</div>"
      ],
      "text/plain": [
       "     train_loss  train_acc  epoch   step  val_loss  val_acc  test_loss  \\\n",
       "0      0.667039    0.56250      0     49       NaN      NaN        NaN   \n",
       "1      0.421971    0.62500      0     99       NaN      NaN        NaN   \n",
       "2      0.202807    0.93750      0    149       NaN      NaN        NaN   \n",
       "3      0.065137    1.00000      0    199       NaN      NaN        NaN   \n",
       "4      0.137116    0.96875      0    249       NaN      NaN        NaN   \n",
       "..          ...        ...    ...    ...       ...      ...        ...   \n",
       "318    0.003338    1.00000      9  15499       NaN      NaN        NaN   \n",
       "319    0.002439    1.00000      9  15549       NaN      NaN        NaN   \n",
       "320    0.028789    0.96875      9  15599       NaN      NaN        NaN   \n",
       "321         NaN        NaN      9  15629  0.087576   0.9748        NaN   \n",
       "322         NaN        NaN      9  15630       NaN      NaN   0.050449   \n",
       "\n",
       "     test_acc  \n",
       "0         NaN  \n",
       "1         NaN  \n",
       "2         NaN  \n",
       "3         NaN  \n",
       "4         NaN  \n",
       "..        ...  \n",
       "318       NaN  \n",
       "319       NaN  \n",
       "320       NaN  \n",
       "321       NaN  \n",
       "322   0.98148  \n",
       "\n",
       "[323 rows x 8 columns]"
      ]
     },
     "execution_count": 7,
     "metadata": {},
     "output_type": "execute_result"
    }
   ],
   "source": [
    "import pandas as pd\n",
    "\n",
    "log_df = pd.read_csv(experiment_root / 'logs/patch_classifier_mixed/version_0/metrics.csv')\n",
    "log_df"
   ]
  },
  {
   "cell_type": "code",
   "execution_count": 8,
   "metadata": {},
   "outputs": [
    {
     "data": {
      "text/plain": [
       "31     0.122310\n",
       "63     0.076231\n",
       "95     0.066012\n",
       "128    0.061229\n",
       "160    0.062206\n",
       "192    0.072130\n",
       "224    0.078480\n",
       "257    0.084793\n",
       "289    0.077074\n",
       "321    0.087576\n",
       "Name: val_loss, dtype: float64"
      ]
     },
     "execution_count": 8,
     "metadata": {},
     "output_type": "execute_result"
    }
   ],
   "source": [
    "log_df['val_loss'].dropna()"
   ]
  },
  {
   "cell_type": "code",
   "execution_count": 9,
   "metadata": {},
   "outputs": [
    {
     "data": {
      "text/plain": [
       "<AxesSubplot:title={'center':'Patch Classifier Mixed Data Training Loss'}, xlabel='step'>"
      ]
     },
     "execution_count": 9,
     "metadata": {},
     "output_type": "execute_result"
    },
    {
     "data": {
      "image/png": "[encoded data removed]",
      "text/plain": [
       "<Figure size 432x288 with 1 Axes>"
      ]
     },
     "metadata": {
      "needs_background": "light"
     },
     "output_type": "display_data"
    }
   ],
   "source": [
    "%matplotlib inline\n",
    "log_df[['train_loss','step']].plot(x='step', title='Patch Classifier Mixed Data Training Loss')"
   ]
  },
  {
   "cell_type": "code",
   "execution_count": 10,
   "metadata": {},
   "outputs": [
    {
     "data": {
      "text/plain": [
       "<AxesSubplot:title={'center':'Patch Classifier Mixed Data Training Accuracy'}, xlabel='step'>"
      ]
     },
     "execution_count": 10,
     "metadata": {},
     "output_type": "execute_result"
    },
    {
     "data": {
      "image/png": "[encoded data removed]",
      "text/plain": [
       "<Figure size 432x288 with 1 Axes>"
      ]
     },
     "metadata": {
      "needs_background": "light"
     },
     "output_type": "display_data"
    }
   ],
   "source": [
    "log_df[['train_acc', 'step']].plot(x='step', title='Patch Classifier Mixed Data Training Accuracy')"
   ]
  },
  {
   "cell_type": "code",
   "execution_count": 11,
   "metadata": {},
   "outputs": [],
   "source": [
    "len(classifier.test_pred), len(classifier.test_y)\n",
    "expected = [x for xs in classifier.test_y for x in xs]\n",
    "predicted = [x for xs in classifier.test_pred for x in xs] "
   ]
  },
  {
   "cell_type": "code",
   "execution_count": 12,
   "metadata": {},
   "outputs": [
    {
     "name": "stdout",
     "output_type": "stream",
     "text": [
      "              precision    recall  f1-score   support\n",
      "\n",
      "      normal       0.98      0.98      0.98     24932\n",
      "       tumor       0.98      0.99      0.98     25068\n",
      "\n",
      "    accuracy                           0.98     50000\n",
      "   macro avg       0.98      0.98      0.98     50000\n",
      "weighted avg       0.98      0.98      0.98     50000\n",
      "\n"
     ]
    },
    {
     "data": {
      "image/png": "[encoded data removed]",
      "text/plain": [
       "<Figure size 432x288 with 2 Axes>"
      ]
     },
     "metadata": {
      "needs_background": "light"
     },
     "output_type": "display_data"
    }
   ],
   "source": [
    "import seaborn as sns\n",
    "from sklearn import metrics\n",
    "import matplotlib.pyplot as plt\n",
    "\n",
    "print(metrics.classification_report(expected, predicted, labels=[0, 1], target_names=['normal', 'tumor']))\n",
    "\n",
    "cm = metrics.confusion_matrix(expected, predicted)\n",
    "\n",
    "ax = plt.subplot()\n",
    "sns.heatmap(cm, annot=True, ax = ax, fmt='g', cmap='Blues');\n",
    "\n",
    "# labels, title and ticks\n",
    "ax.set_xlabel('Predicted labels');\n",
    "ax.set_ylabel('True labels'); \n",
    "ax.set_title('Patch Classifier Mixed Data Confusion Matrix'); \n",
    "ax.xaxis.set_ticklabels(['normal', 'tumor']); ax.yaxis.set_ticklabels(['normal', 'tumor']);"
   ]
  },
  {
   "cell_type": "code",
   "execution_count": 13,
   "metadata": {},
   "outputs": [
    {
     "data": {
      "text/plain": [
       "Backbone(\n",
       "  (conv1): Conv2d(3, 32, kernel_size=(3, 3), stride=(1, 1))\n",
       "  (conv2): Conv2d(32, 32, kernel_size=(3, 3), stride=(1, 1))\n",
       "  (conv3): Conv2d(32, 64, kernel_size=(3, 3), stride=(1, 1))\n",
       "  (conv4): Conv2d(64, 64, kernel_size=(3, 3), stride=(1, 1))\n",
       "  (pool1): MaxPool2d(kernel_size=2, stride=2, padding=0, dilation=1, ceil_mode=False)\n",
       "  (pool2): MaxPool2d(kernel_size=2, stride=2, padding=0, dilation=1, ceil_mode=False)\n",
       "  (fc1): Linear(in_features=10816, out_features=512, bias=True)\n",
       "  (fc2): Linear(in_features=512, out_features=128, bias=True)\n",
       "  (fc3): Linear(in_features=128, out_features=2, bias=True)\n",
       ")"
      ]
     },
     "execution_count": 13,
     "metadata": {},
     "output_type": "execute_result"
    }
   ],
   "source": [
    "model"
   ]
  },
  {
   "cell_type": "code",
   "execution_count": null,
   "metadata": {},
   "outputs": [],
   "source": []
  }
 ],
 "metadata": {
  "kernelspec": {
   "display_name": "pathgen",
   "language": "python",
   "name": "pathgen"
  },
  "language_info": {
   "codemirror_mode": {
    "name": "ipython",
    "version": 3
   },
   "file_extension": ".py",
   "mimetype": "text/x-python",
   "name": "python",
   "nbconvert_exporter": "python",
   "pygments_lexer": "ipython3",
   "version": "3.6.10"
  }
 },
 "nbformat": 4,
 "nbformat_minor": 4
}
