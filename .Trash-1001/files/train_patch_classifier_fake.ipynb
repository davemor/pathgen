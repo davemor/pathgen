{
 "cells": [
  {
   "cell_type": "code",
   "execution_count": 1,
   "metadata": {},
   "outputs": [],
   "source": [
    "from pathgen.utils.seeds import set_seed\n",
    "from pathgen.utils.paths import project_root\n",
    "\n",
    "experiment_name = \"one\"\n",
    "experiment_root = project_root() / \"experiments\" / experiment_name\n",
    "\n",
    "global_seed = 123\n",
    "set_seed(global_seed)"
   ]
  },
  {
   "cell_type": "code",
   "execution_count": 2,
   "metadata": {},
   "outputs": [],
   "source": [
    "import numpy as np\n",
    "import pandas as pd\n",
    "import pytorch_lightning as pl\n",
    "from pytorch_lightning.callbacks import ModelCheckpoint\n",
    "from torch.utils.data import DataLoader\n",
    "from torchvision.datasets import ImageFolder\n",
    "import torch\n",
    "from torch import nn\n",
    "import torch.nn.functional as F\n",
    "from pytorch_lightning.metrics import Accuracy\n",
    "\n",
    "def accuracy(logits, y):\n",
    "    # pred = torch.log_softmax(logits, dim=1)\n",
    "    # correct = pred.argmax(dim=1).eq(y).sum().item()\n",
    "    correct = logits.argmax(dim=1).eq(y).sum().item()\n",
    "    total = len(y)\n",
    "    accu = correct / total\n",
    "    return accu\n",
    "\n",
    "\n",
    "class PatchClassifier(pl.LightningModule):\n",
    "    def __init__(self, model, learning_rate=2e-4) -> None:\n",
    "        super().__init__()\n",
    "        self.model = model\n",
    "        #self.accuracy = Accuracy()\n",
    "        self.accuracy = accuracy\n",
    "        \n",
    "        # log hyperparameters\n",
    "        # self.save_hyperparameters()\n",
    "        self.learning_rate = learning_rate\n",
    "        self.test_pred = []\n",
    "        self.test_y = []\n",
    "\n",
    "    def training_step(self, batch, batch_idx):\n",
    "        x, y = batch\n",
    "        logits = self.model(x)\n",
    "        loss = F.nll_loss(logits, y)\n",
    "        \n",
    "        # training metrics\n",
    "        acc = accuracy(logits, y)\n",
    "        self.log('train_loss', loss, prog_bar=True)\n",
    "        self.log('train_acc', acc, prog_bar=True)\n",
    "        return loss\n",
    "    \n",
    "    def validation_step(self, batch, batch_idx):\n",
    "        x, y = batch\n",
    "        logits = self.model(x)\n",
    "        loss = F.nll_loss(logits, y)\n",
    "        \n",
    "        # training metrics\n",
    "        acc = accuracy(logits, y)\n",
    "        self.log('val_loss', loss, prog_bar=True)\n",
    "        self.log('val_acc', acc, prog_bar=True)\n",
    "        return loss\n",
    "    \n",
    "    def test_step(self, batch, batch_idx):\n",
    "        x, y = batch\n",
    "        logits = self.model(x)\n",
    "        loss = F.nll_loss(logits, y)\n",
    "        \n",
    "        # log the results so we can compute epoch wide metrics\n",
    "        pred = logits.argmax(dim=1)\n",
    "        pred_list = pred.cpu().numpy().tolist()\n",
    "        #print(pred_list)\n",
    "        y_list = y.cpu().numpy().tolist()\n",
    "        #print(y_list)\n",
    "        self.test_pred.append(pred_list)\n",
    "        self.test_y.append(y_list)\n",
    "        \n",
    "        # training metrics\n",
    "        acc = accuracy(logits, y)\n",
    "        self.log('test_loss', loss, prog_bar=True)\n",
    "        self.log('test_acc', acc, prog_bar=True)\n",
    "        return loss\n",
    "\n",
    "    def configure_optimizers(self):\n",
    "        optimizer = torch.optim.SGD(self.model.parameters(), \n",
    "                                    lr=0.01, \n",
    "                                    momentum=0.9, \n",
    "                                    weight_decay=0.0005)\n",
    "        scheduler = {\n",
    "            'scheduler': torch.optim.lr_scheduler.StepLR(optimizer, step_size=50000, gamma=0.5),\n",
    "            'interval': 'step' \n",
    "        }\n",
    "        return [optimizer], [scheduler]\n",
    "    \n",
    "    #def configure_optimizers(self):\n",
    "     #  optimizer = torch.optim.Adam(self.parameters(), lr=self.learning_rate)\n",
    "        #return optimizer    "
   ]
  },
  {
   "cell_type": "code",
   "execution_count": 3,
   "metadata": {},
   "outputs": [],
   "source": [
    "import torch\n",
    "from torch import nn\n",
    "import torch.nn.functional as F\n",
    "\n",
    "class Backbone(nn.Module):\n",
    "    def __init__(self, input_shape, num_classes):\n",
    "        super().__init__()\n",
    "        self.conv1 = nn.Conv2d(3, 32, 3, 1)\n",
    "        self.conv2 = nn.Conv2d(32, 32, 3, 1)\n",
    "        self.conv3 = nn.Conv2d(32, 64, 3, 1)\n",
    "        self.conv4 = nn.Conv2d(64, 64, 3, 1)\n",
    "\n",
    "        self.pool1 = torch.nn.MaxPool2d(2)\n",
    "        self.pool2 = torch.nn.MaxPool2d(2)\n",
    "        \n",
    "        n_sizes = self._get_conv_output(input_shape)\n",
    "\n",
    "        self.fc1 = nn.Linear(n_sizes, 512)\n",
    "        self.fc2 = nn.Linear(512, 128)\n",
    "        self.fc3 = nn.Linear(128, num_classes)\n",
    "\n",
    "    # returns the size of the output tensor going into Linear layer from the conv block.\n",
    "    def _get_conv_output(self, shape):\n",
    "        batch_size = 1\n",
    "        input = torch.autograd.Variable(torch.rand(batch_size, *shape))\n",
    "\n",
    "        output_feat = self._forward_features(input) \n",
    "        n_size = output_feat.data.view(batch_size, -1).size(1)\n",
    "        return n_size\n",
    "        \n",
    "    # returns the feature tensor from the conv block\n",
    "    def _forward_features(self, x):\n",
    "        x = F.relu(self.conv1(x))\n",
    "        x = self.pool1(F.relu(self.conv2(x)))\n",
    "        x = F.relu(self.conv3(x))\n",
    "        x = self.pool2(F.relu(self.conv4(x)))\n",
    "        return x\n",
    "    \n",
    "    # will be used during inference\n",
    "    def forward(self, x):\n",
    "       x = self._forward_features(x)\n",
    "       x = x.view(x.size(0), -1)\n",
    "       x = F.relu(self.fc1(x))\n",
    "       x = F.relu(self.fc2(x))\n",
    "       x = F.log_softmax(self.fc3(x), dim=1)\n",
    "       \n",
    "       return x"
   ]
  },
  {
   "cell_type": "code",
   "execution_count": 4,
   "metadata": {
    "scrolled": false
   },
   "outputs": [
    {
     "name": "stdout",
     "output_type": "stream",
     "text": [
      "CPU times: user 551 ms, sys: 42.9 ms, total: 593 ms\n",
      "Wall time: 450 ms\n"
     ]
    }
   ],
   "source": [
    "%%time\n",
    "\n",
    "from pytorch_lightning.callbacks import ModelCheckpoint\n",
    "from pytorch_lightning.callbacks.early_stopping import EarlyStopping\n",
    "from pytorch_lightning import loggers as pl_loggers\n",
    "import torchvision.transforms as transforms\n",
    "\n",
    "# prepare our data\n",
    "batch_size = 32\n",
    "\n",
    "transform = transforms.Compose([\n",
    "    transforms.Resize((64, 64)),\n",
    "    transforms.ToTensor(),\n",
    "    transforms.Normalize((0.5, 0.5, 0.5), (0.5, 0.5, 0.5))\n",
    "])\n",
    "\n",
    "# train_set = ImageFolder(experiment_root / \"training_patches\", transform=transform)\n",
    "# valid_set = ImageFolder(experiment_root / \"validation_patches\", transform=transform)\n",
    "\n",
    "dataset = ImageFolder(project_root() / 'experiments/one/fake_patches', transform=transform)  # 60,000 samples\n",
    "train_set, valid_set = torch.utils.data.random_split(dataset, [50000, 10000])\n",
    "\n",
    "train_loader = DataLoader(train_set, batch_size=batch_size, worker_init_fn=np.random.seed(global_seed), num_workers=32)\n",
    "valid_loader = DataLoader(valid_set, batch_size=batch_size, worker_init_fn=np.random.seed(global_seed), num_workers=32)\n",
    "\n"
   ]
  },
  {
   "cell_type": "code",
   "execution_count": 5,
   "metadata": {
    "scrolled": false
   },
   "outputs": [
    {
     "name": "stderr",
     "output_type": "stream",
     "text": [
      "/home/ubuntu/anaconda3/envs/pathgen/lib/python3.6/site-packages/pytorch_lightning/utilities/distributed.py:50: UserWarning: Checkpoint directory /home/ubuntu/pathgen/experiments/one/patch_model exists and is not empty.\n",
      "  warnings.warn(*args, **kwargs)\n",
      "GPU available: True, used: True\n",
      "TPU available: None, using: 0 TPU cores\n",
      "/home/ubuntu/anaconda3/envs/pathgen/lib/python3.6/site-packages/pytorch_lightning/utilities/distributed.py:50: UserWarning: Experiment logs directory /home/ubuntu/pathgen/experiments/one/logs/patch_classifier_fake/version_0 exists and is not empty. Previous log files in this directory will be deleted when the new ones are saved!\n",
      "  warnings.warn(*args, **kwargs)\n",
      "\n",
      "  | Name  | Type     | Params\n",
      "-----------------------------------\n",
      "0 | model | Backbone | 5.7 M \n",
      "-----------------------------------\n",
      "5.7 M     Trainable params\n",
      "0         Non-trainable params\n",
      "5.7 M     Total params\n",
      "22.679    Total estimated model params size (MB)\n"
     ]
    },
    {
     "name": "stdout",
     "output_type": "stream",
     "text": [
      "Epoch 0:  83%|████████▎ | 1563/1876 [00:27<00:05, 56.13it/s, loss=0.0111, v_num=0, val_loss=0.693, val_acc=0.516, train_loss=0.00128, train_acc=1.000]   \n",
      "Validating: 0it [00:00, ?it/s]\u001b[A\n",
      "Validating:   0%|          | 0/313 [00:00<?, ?it/s]\u001b[A\n",
      "Epoch 0:  83%|████████▎ | 1565/1876 [00:30<00:06, 51.10it/s, loss=0.0111, v_num=0, val_loss=0.693, val_acc=0.516, train_loss=0.00128, train_acc=1.000]\n",
      "Epoch 0:  84%|████████▍ | 1576/1876 [00:30<00:05, 51.29it/s, loss=0.0111, v_num=0, val_loss=0.693, val_acc=0.516, train_loss=0.00128, train_acc=1.000]\n",
      "Epoch 0:  85%|████████▌ | 1598/1876 [00:30<00:05, 51.76it/s, loss=0.0111, v_num=0, val_loss=0.693, val_acc=0.516, train_loss=0.00128, train_acc=1.000]\n",
      "Epoch 0:  87%|████████▋ | 1623/1876 [00:30<00:04, 52.39it/s, loss=0.0111, v_num=0, val_loss=0.693, val_acc=0.516, train_loss=0.00128, train_acc=1.000]\n",
      "Epoch 0:  88%|████████▊ | 1648/1876 [00:31<00:04, 52.99it/s, loss=0.0111, v_num=0, val_loss=0.693, val_acc=0.516, train_loss=0.00128, train_acc=1.000]\n",
      "Epoch 0:  89%|████████▉ | 1673/1876 [00:31<00:03, 53.54it/s, loss=0.0111, v_num=0, val_loss=0.693, val_acc=0.516, train_loss=0.00128, train_acc=1.000]\n",
      "Epoch 0:  91%|█████████ | 1698/1876 [00:31<00:03, 54.12it/s, loss=0.0111, v_num=0, val_loss=0.693, val_acc=0.516, train_loss=0.00128, train_acc=1.000]\n",
      "Validating:  44%|████▍     | 137/313 [00:03<00:01, 116.09it/s]\u001b[A\n",
      "Epoch 0:  92%|█████████▏| 1723/1876 [00:31<00:02, 54.68it/s, loss=0.0111, v_num=0, val_loss=0.693, val_acc=0.516, train_loss=0.00128, train_acc=1.000]\n",
      "Epoch 0:  93%|█████████▎| 1748/1876 [00:31<00:02, 55.24it/s, loss=0.0111, v_num=0, val_loss=0.693, val_acc=0.516, train_loss=0.00128, train_acc=1.000]\n",
      "Epoch 0:  95%|█████████▍| 1773/1876 [00:31<00:01, 55.80it/s, loss=0.0111, v_num=0, val_loss=0.693, val_acc=0.516, train_loss=0.00128, train_acc=1.000]\n",
      "Validating:  68%|██████▊   | 214/313 [00:03<00:00, 163.30it/s]\u001b[A\n",
      "Epoch 0:  96%|█████████▌| 1798/1876 [00:31<00:01, 56.35it/s, loss=0.0111, v_num=0, val_loss=0.693, val_acc=0.516, train_loss=0.00128, train_acc=1.000]\n",
      "Epoch 0:  97%|█████████▋| 1823/1876 [00:32<00:00, 56.89it/s, loss=0.0111, v_num=0, val_loss=0.693, val_acc=0.516, train_loss=0.00128, train_acc=1.000]\n",
      "Epoch 0:  99%|█████████▊| 1848/1876 [00:32<00:00, 57.46it/s, loss=0.0111, v_num=0, val_loss=0.693, val_acc=0.516, train_loss=0.00128, train_acc=1.000]\n",
      "Epoch 0: 100%|██████████| 1876/1876 [00:32<00:00, 57.89it/s, loss=0.0111, v_num=0, val_loss=0.00315, val_acc=0.999, train_loss=0.00566, train_acc=1.000]\n",
      "Epoch 1:  83%|████████▎ | 1563/1876 [00:27<00:05, 55.85it/s, loss=0.0163, v_num=0, val_loss=0.00315, val_acc=0.999, train_loss=0.000599, train_acc=1.000]  \n",
      "Validating: 0it [00:00, ?it/s]\u001b[A\n",
      "Validating:   0%|          | 0/313 [00:00<?, ?it/s]\u001b[A\n",
      "Epoch 1:  84%|████████▍ | 1575/1876 [00:31<00:06, 49.89it/s, loss=0.0163, v_num=0, val_loss=0.00315, val_acc=0.999, train_loss=0.000599, train_acc=1.000]\n",
      "Epoch 1:  85%|████████▌ | 1600/1876 [00:31<00:05, 50.49it/s, loss=0.0163, v_num=0, val_loss=0.00315, val_acc=0.999, train_loss=0.000599, train_acc=1.000]\n",
      "Epoch 1:  87%|████████▋ | 1630/1876 [00:31<00:04, 51.27it/s, loss=0.0163, v_num=0, val_loss=0.00315, val_acc=0.999, train_loss=0.000599, train_acc=1.000]\n",
      "Epoch 1:  88%|████████▊ | 1660/1876 [00:31<00:04, 52.02it/s, loss=0.0163, v_num=0, val_loss=0.00315, val_acc=0.999, train_loss=0.000599, train_acc=1.000]\n",
      "Validating:  31%|███       | 97/313 [00:03<00:03, 62.37it/s]\u001b[A\n",
      "Epoch 1:  90%|█████████ | 1690/1876 [00:32<00:03, 52.75it/s, loss=0.0163, v_num=0, val_loss=0.00315, val_acc=0.999, train_loss=0.000599, train_acc=1.000]\n",
      "Epoch 1:  92%|█████████▏| 1720/1876 [00:32<00:02, 53.49it/s, loss=0.0163, v_num=0, val_loss=0.00315, val_acc=0.999, train_loss=0.000599, train_acc=1.000]\n",
      "Epoch 1:  93%|█████████▎| 1750/1876 [00:32<00:02, 54.24it/s, loss=0.0163, v_num=0, val_loss=0.00315, val_acc=0.999, train_loss=0.000599, train_acc=1.000]\n",
      "Epoch 1:  95%|█████████▍| 1780/1876 [00:32<00:01, 54.96it/s, loss=0.0163, v_num=0, val_loss=0.00315, val_acc=0.999, train_loss=0.000599, train_acc=1.000]\n",
      "Epoch 1:  96%|█████████▋| 1810/1876 [00:32<00:01, 55.62it/s, loss=0.0163, v_num=0, val_loss=0.00315, val_acc=0.999, train_loss=0.000599, train_acc=1.000]\n",
      "Validating:  81%|████████  | 252/313 [00:04<00:00, 180.29it/s]\u001b[A\n",
      "Epoch 1:  98%|█████████▊| 1840/1876 [00:32<00:00, 56.27it/s, loss=0.0163, v_num=0, val_loss=0.00315, val_acc=0.999, train_loss=0.000599, train_acc=1.000]\n",
      "Epoch 1: 100%|██████████| 1876/1876 [00:33<00:00, 56.80it/s, loss=0.0163, v_num=0, val_loss=0.00177, val_acc=1.000, train_loss=0.0037, train_acc=1.000]  \n",
      "Epoch 2:  83%|████████▎ | 1563/1876 [00:27<00:05, 56.62it/s, loss=0.000339, v_num=0, val_loss=0.00177, val_acc=1.000, train_loss=0.000116, train_acc=1.000]\n",
      "Validating: 0it [00:00, ?it/s]\u001b[A\n",
      "Validating:   0%|          | 0/313 [00:00<?, ?it/s]\u001b[A\n",
      "Validating:   0%|          | 1/313 [00:02<13:04,  2.52s/it]\u001b[A\n",
      "Epoch 2:  85%|████████▍ | 1590/1876 [00:30<00:05, 52.04it/s, loss=0.000339, v_num=0, val_loss=0.00177, val_acc=1.000, train_loss=0.000116, train_acc=1.000]\n",
      "Epoch 2:  86%|████████▋ | 1620/1876 [00:30<00:04, 52.75it/s, loss=0.000339, v_num=0, val_loss=0.00177, val_acc=1.000, train_loss=0.000116, train_acc=1.000]\n",
      "Validating:  20%|██        | 64/313 [00:02<00:05, 42.71it/s]\u001b[A\n",
      "Epoch 2:  88%|████████▊ | 1650/1876 [00:30<00:04, 53.46it/s, loss=0.000339, v_num=0, val_loss=0.00177, val_acc=1.000, train_loss=0.000116, train_acc=1.000]\n",
      "Epoch 2:  90%|████████▉ | 1680/1876 [00:31<00:03, 54.12it/s, loss=0.000339, v_num=0, val_loss=0.00177, val_acc=1.000, train_loss=0.000116, train_acc=1.000]\n",
      "Validating:  38%|███▊      | 120/313 [00:03<00:02, 91.96it/s]\u001b[A\n",
      "Epoch 2:  91%|█████████ | 1710/1876 [00:31<00:03, 54.79it/s, loss=0.000339, v_num=0, val_loss=0.00177, val_acc=1.000, train_loss=0.000116, train_acc=1.000]\n",
      "Epoch 2:  93%|█████████▎| 1740/1876 [00:31<00:02, 55.46it/s, loss=0.000339, v_num=0, val_loss=0.00177, val_acc=1.000, train_loss=0.000116, train_acc=1.000]\n",
      "Validating:  57%|█████▋    | 177/313 [00:03<00:00, 139.33it/s]\u001b[A\n",
      "Epoch 2:  94%|█████████▍| 1770/1876 [00:31<00:01, 56.14it/s, loss=0.000339, v_num=0, val_loss=0.00177, val_acc=1.000, train_loss=0.000116, train_acc=1.000]\n",
      "Epoch 2:  96%|█████████▌| 1800/1876 [00:31<00:01, 56.82it/s, loss=0.000339, v_num=0, val_loss=0.00177, val_acc=1.000, train_loss=0.000116, train_acc=1.000]\n",
      "Validating:  76%|███████▌  | 238/313 [00:03<00:00, 174.34it/s]\u001b[A\n",
      "Epoch 2:  98%|█████████▊| 1830/1876 [00:31<00:00, 57.48it/s, loss=0.000339, v_num=0, val_loss=0.00177, val_acc=1.000, train_loss=0.000116, train_acc=1.000]\n",
      "Epoch 2:  99%|█████████▉| 1860/1876 [00:31<00:00, 58.13it/s, loss=0.000339, v_num=0, val_loss=0.00177, val_acc=1.000, train_loss=0.000116, train_acc=1.000]\n",
      "Epoch 2: 100%|██████████| 1876/1876 [00:32<00:00, 58.22it/s, loss=0.000339, v_num=0, val_loss=0.000327, val_acc=1.000, train_loss=0.000164, train_acc=1.000]\n",
      "Epoch 3:  83%|████████▎ | 1563/1876 [00:27<00:05, 56.39it/s, loss=0.000226, v_num=0, val_loss=0.000327, val_acc=1.000, train_loss=0.000128, train_acc=1.000]\n",
      "Validating: 0it [00:00, ?it/s]\u001b[A\n",
      "Validating:   0%|          | 0/313 [00:00<?, ?it/s]\u001b[A\n",
      "Validating:   0%|          | 1/313 [00:02<12:30,  2.41s/it]\u001b[A\n",
      "Epoch 3:  85%|████████▍ | 1590/1876 [00:30<00:05, 51.97it/s, loss=0.000226, v_num=0, val_loss=0.000327, val_acc=1.000, train_loss=0.000128, train_acc=1.000]\n",
      "Epoch 3:  86%|████████▋ | 1620/1876 [00:30<00:04, 52.69it/s, loss=0.000226, v_num=0, val_loss=0.000327, val_acc=1.000, train_loss=0.000128, train_acc=1.000]\n",
      "Validating:  19%|█▉        | 59/313 [00:02<00:05, 42.86it/s]\u001b[A\n",
      "Epoch 3:  88%|████████▊ | 1650/1876 [00:30<00:04, 53.42it/s, loss=0.000226, v_num=0, val_loss=0.000327, val_acc=1.000, train_loss=0.000128, train_acc=1.000]\n",
      "Epoch 3:  90%|████████▉ | 1680/1876 [00:31<00:03, 54.11it/s, loss=0.000226, v_num=0, val_loss=0.000327, val_acc=1.000, train_loss=0.000128, train_acc=1.000]\n",
      "Validating:  38%|███▊      | 120/313 [00:03<00:01, 100.95it/s]\u001b[A\n",
      "Epoch 3:  91%|█████████ | 1710/1876 [00:31<00:03, 54.80it/s, loss=0.000226, v_num=0, val_loss=0.000327, val_acc=1.000, train_loss=0.000128, train_acc=1.000]\n",
      "Epoch 3:  93%|█████████▎| 1740/1876 [00:31<00:02, 55.47it/s, loss=0.000226, v_num=0, val_loss=0.000327, val_acc=1.000, train_loss=0.000128, train_acc=1.000]\n",
      "Validating:  57%|█████▋    | 177/313 [00:03<00:00, 145.02it/s]\u001b[A\n",
      "Epoch 3:  94%|█████████▍| 1770/1876 [00:31<00:01, 56.13it/s, loss=0.000226, v_num=0, val_loss=0.000327, val_acc=1.000, train_loss=0.000128, train_acc=1.000]\n",
      "Validating:  69%|██████▉   | 216/313 [00:03<00:00, 164.49it/s]\u001b[A\n",
      "Epoch 3:  96%|█████████▌| 1800/1876 [00:31<00:01, 56.80it/s, loss=0.000226, v_num=0, val_loss=0.000327, val_acc=1.000, train_loss=0.000128, train_acc=1.000]\n",
      "Epoch 3:  98%|█████████▊| 1830/1876 [00:31<00:00, 57.46it/s, loss=0.000226, v_num=0, val_loss=0.000327, val_acc=1.000, train_loss=0.000128, train_acc=1.000]\n",
      "Epoch 3:  99%|█████████▉| 1860/1876 [00:32<00:00, 57.96it/s, loss=0.000226, v_num=0, val_loss=0.000327, val_acc=1.000, train_loss=0.000128, train_acc=1.000]\n",
      "Epoch 3: 100%|██████████| 1876/1876 [00:32<00:00, 58.07it/s, loss=0.000226, v_num=0, val_loss=0.00042, val_acc=1.000, train_loss=0.000226, train_acc=1.000] \n",
      "Epoch 4:  83%|████████▎ | 1563/1876 [00:27<00:05, 56.63it/s, loss=7.11e-05, v_num=0, val_loss=0.00042, val_acc=1.000, train_loss=3.8e-5, train_acc=1.000]  \n",
      "Validating: 0it [00:00, ?it/s]\u001b[A\n",
      "Validating:   0%|          | 0/313 [00:00<?, ?it/s]\u001b[A\n",
      "Validating:   0%|          | 1/313 [00:02<13:06,  2.52s/it]\u001b[A\n",
      "Epoch 4:  85%|████████▍ | 1590/1876 [00:30<00:05, 52.04it/s, loss=7.11e-05, v_num=0, val_loss=0.00042, val_acc=1.000, train_loss=3.8e-5, train_acc=1.000]\n",
      "Epoch 4:  86%|████████▋ | 1620/1876 [00:30<00:04, 52.78it/s, loss=7.11e-05, v_num=0, val_loss=0.00042, val_acc=1.000, train_loss=3.8e-5, train_acc=1.000]\n",
      "Epoch 4:  88%|████████▊ | 1650/1876 [00:30<00:04, 53.52it/s, loss=7.11e-05, v_num=0, val_loss=0.00042, val_acc=1.000, train_loss=3.8e-5, train_acc=1.000]\n",
      "Validating:  28%|██▊       | 88/313 [00:02<00:03, 64.65it/s]\u001b[A\n",
      "Epoch 4:  90%|████████▉ | 1680/1876 [00:30<00:03, 54.20it/s, loss=7.11e-05, v_num=0, val_loss=0.00042, val_acc=1.000, train_loss=3.8e-5, train_acc=1.000]\n",
      "Epoch 4:  91%|█████████ | 1710/1876 [00:31<00:03, 54.89it/s, loss=7.11e-05, v_num=0, val_loss=0.00042, val_acc=1.000, train_loss=3.8e-5, train_acc=1.000]\n",
      "Validating:  47%|████▋     | 147/313 [00:03<00:01, 117.48it/s]\u001b[A\n",
      "Epoch 4:  93%|█████████▎| 1740/1876 [00:31<00:02, 55.56it/s, loss=7.11e-05, v_num=0, val_loss=0.00042, val_acc=1.000, train_loss=3.8e-5, train_acc=1.000]\n",
      "Validating:  59%|█████▉    | 185/313 [00:03<00:00, 144.33it/s]\u001b[A\n",
      "Epoch 4:  94%|█████████▍| 1770/1876 [00:31<00:01, 56.23it/s, loss=7.11e-05, v_num=0, val_loss=0.00042, val_acc=1.000, train_loss=3.8e-5, train_acc=1.000]\n",
      "Epoch 4:  96%|█████████▌| 1800/1876 [00:31<00:01, 56.90it/s, loss=7.11e-05, v_num=0, val_loss=0.00042, val_acc=1.000, train_loss=3.8e-5, train_acc=1.000]\n",
      "Validating:  78%|███████▊  | 244/313 [00:03<00:00, 170.64it/s]\u001b[A\n",
      "Epoch 4:  98%|█████████▊| 1830/1876 [00:31<00:00, 57.55it/s, loss=7.11e-05, v_num=0, val_loss=0.00042, val_acc=1.000, train_loss=3.8e-5, train_acc=1.000]\n",
      "Epoch 4:  99%|█████████▉| 1860/1876 [00:31<00:00, 58.22it/s, loss=7.11e-05, v_num=0, val_loss=0.00042, val_acc=1.000, train_loss=3.8e-5, train_acc=1.000]\n",
      "Epoch 4: 100%|██████████| 1876/1876 [00:32<00:00, 58.33it/s, loss=7.11e-05, v_num=0, val_loss=0.000109, val_acc=1.000, train_loss=3.98e-5, train_acc=1.000]\n",
      "Epoch 5:  83%|████████▎ | 1563/1876 [00:26<00:05, 59.98it/s, loss=7.54e-05, v_num=0, val_loss=0.000109, val_acc=1.000, train_loss=3.52e-5, train_acc=1.000] \n",
      "Validating: 0it [00:00, ?it/s]\u001b[A\n",
      "Validating:   0%|          | 0/313 [00:00<?, ?it/s]\u001b[A\n",
      "Validating:   0%|          | 1/313 [00:02<10:58,  2.11s/it]\u001b[A\n",
      "Epoch 5:  85%|████████▍ | 1590/1876 [00:28<00:05, 55.44it/s, loss=7.54e-05, v_num=0, val_loss=0.000109, val_acc=1.000, train_loss=3.52e-5, train_acc=1.000]\n",
      "Epoch 5:  86%|████████▋ | 1620/1876 [00:28<00:04, 56.26it/s, loss=7.54e-05, v_num=0, val_loss=0.000109, val_acc=1.000, train_loss=3.52e-5, train_acc=1.000]\n",
      "Epoch 5:  88%|████████▊ | 1650/1876 [00:28<00:03, 57.09it/s, loss=7.54e-05, v_num=0, val_loss=0.000109, val_acc=1.000, train_loss=3.52e-5, train_acc=1.000]\n",
      "Epoch 5:  90%|████████▉ | 1680/1876 [00:29<00:03, 57.91it/s, loss=7.54e-05, v_num=0, val_loss=0.000109, val_acc=1.000, train_loss=3.52e-5, train_acc=1.000]\n",
      "Epoch 5:  91%|█████████ | 1710/1876 [00:29<00:02, 58.70it/s, loss=7.54e-05, v_num=0, val_loss=0.000109, val_acc=1.000, train_loss=3.52e-5, train_acc=1.000]\n",
      "Validating:  48%|████▊     | 149/313 [00:02<00:01, 138.89it/s]\u001b[A\n",
      "Epoch 5:  93%|█████████▎| 1740/1876 [00:29<00:02, 59.49it/s, loss=7.54e-05, v_num=0, val_loss=0.000109, val_acc=1.000, train_loss=3.52e-5, train_acc=1.000]\n",
      "Epoch 5:  94%|█████████▍| 1770/1876 [00:29<00:01, 60.29it/s, loss=7.54e-05, v_num=0, val_loss=0.000109, val_acc=1.000, train_loss=3.52e-5, train_acc=1.000]\n",
      "Epoch 5:  96%|█████████▌| 1800/1876 [00:29<00:01, 61.09it/s, loss=7.54e-05, v_num=0, val_loss=0.000109, val_acc=1.000, train_loss=3.52e-5, train_acc=1.000]\n",
      "Epoch 5:  98%|█████████▊| 1831/1876 [00:29<00:00, 61.92it/s, loss=7.54e-05, v_num=0, val_loss=0.000109, val_acc=1.000, train_loss=3.52e-5, train_acc=1.000]\n",
      "Epoch 5: 100%|██████████| 1876/1876 [00:29<00:00, 62.86it/s, loss=7.54e-05, v_num=0, val_loss=0.000115, val_acc=1.000, train_loss=3.27e-5, train_acc=1.000]\n",
      "Epoch 6:  83%|████████▎ | 1563/1876 [00:16<00:03, 95.28it/s, loss=0.000365, v_num=0, val_loss=0.000115, val_acc=1.000, train_loss=0.000171, train_acc=1.000]\n",
      "Validating: 0it [00:00, ?it/s]\u001b[A\n",
      "Validating:   0%|          | 0/313 [00:00<?, ?it/s]\u001b[A\n",
      "Epoch 6:  84%|████████▍ | 1581/1876 [00:18<00:03, 85.38it/s, loss=0.000365, v_num=0, val_loss=0.000115, val_acc=1.000, train_loss=0.000171, train_acc=1.000]\n",
      "Epoch 6:  86%|████████▌ | 1612/1876 [00:18<00:03, 86.51it/s, loss=0.000365, v_num=0, val_loss=0.000115, val_acc=1.000, train_loss=0.000171, train_acc=1.000]\n",
      "Epoch 6:  88%|████████▊ | 1644/1876 [00:18<00:02, 87.75it/s, loss=0.000365, v_num=0, val_loss=0.000115, val_acc=1.000, train_loss=0.000171, train_acc=1.000]\n",
      "Epoch 6:  89%|████████▉ | 1676/1876 [00:18<00:02, 88.91it/s, loss=0.000365, v_num=0, val_loss=0.000115, val_acc=1.000, train_loss=0.000171, train_acc=1.000]\n",
      "Validating:  37%|███▋      | 116/313 [00:02<00:01, 106.68it/s]\u001b[A\n",
      "Epoch 6:  91%|█████████ | 1708/1876 [00:18<00:01, 90.04it/s, loss=0.000365, v_num=0, val_loss=0.000115, val_acc=1.000, train_loss=0.000171, train_acc=1.000]\n",
      "Epoch 6:  93%|█████████▎| 1740/1876 [00:19<00:01, 91.17it/s, loss=0.000365, v_num=0, val_loss=0.000115, val_acc=1.000, train_loss=0.000171, train_acc=1.000]\n",
      "Epoch 6:  94%|█████████▍| 1772/1876 [00:19<00:01, 92.29it/s, loss=0.000365, v_num=0, val_loss=0.000115, val_acc=1.000, train_loss=0.000171, train_acc=1.000]\n",
      "Epoch 6:  96%|█████████▌| 1804/1876 [00:19<00:00, 93.39it/s, loss=0.000365, v_num=0, val_loss=0.000115, val_acc=1.000, train_loss=0.000171, train_acc=1.000]\n",
      "Epoch 6:  98%|█████████▊| 1836/1876 [00:19<00:00, 94.53it/s, loss=0.000365, v_num=0, val_loss=0.000115, val_acc=1.000, train_loss=0.000171, train_acc=1.000]\n",
      "Epoch 6: 100%|██████████| 1876/1876 [00:19<00:00, 95.41it/s, loss=0.000365, v_num=0, val_loss=0.000466, val_acc=1.000, train_loss=0.000158, train_acc=1.000]\n",
      "Epoch 7:  83%|████████▎ | 1564/1876 [00:16<00:03, 92.18it/s, loss=5.09e-05, v_num=0, val_loss=0.000466, val_acc=1.000, train_loss=1.98e-5, train_acc=1.000] \n",
      "Validating: 0it [00:00, ?it/s]\u001b[A\n",
      "Validating:   0%|          | 0/313 [00:00<?, ?it/s]\u001b[A\n",
      "Validating:   0%|          | 1/313 [00:01<09:39,  1.86s/it]\u001b[A\n",
      "Epoch 7:  85%|████████▌ | 1598/1876 [00:18<00:03, 84.19it/s, loss=5.09e-05, v_num=0, val_loss=0.000466, val_acc=1.000, train_loss=1.98e-5, train_acc=1.000]\n",
      "Epoch 7:  87%|████████▋ | 1632/1876 [00:19<00:02, 85.46it/s, loss=5.09e-05, v_num=0, val_loss=0.000466, val_acc=1.000, train_loss=1.98e-5, train_acc=1.000]\n",
      "Epoch 7:  89%|████████▉ | 1666/1876 [00:19<00:02, 86.65it/s, loss=5.09e-05, v_num=0, val_loss=0.000466, val_acc=1.000, train_loss=1.98e-5, train_acc=1.000]\n",
      "Validating:  33%|███▎      | 104/313 [00:02<00:02, 95.95it/s]\u001b[A\n",
      "Epoch 7:  91%|█████████ | 1700/1876 [00:19<00:02, 87.84it/s, loss=5.09e-05, v_num=0, val_loss=0.000466, val_acc=1.000, train_loss=1.98e-5, train_acc=1.000]\n"
     ]
    },
    {
     "name": "stdout",
     "output_type": "stream",
     "text": [
      "Epoch 7:  92%|█████████▏| 1734/1876 [00:19<00:01, 89.02it/s, loss=5.09e-05, v_num=0, val_loss=0.000466, val_acc=1.000, train_loss=1.98e-5, train_acc=1.000]\n",
      "Epoch 7:  94%|█████████▍| 1768/1876 [00:19<00:01, 90.19it/s, loss=5.09e-05, v_num=0, val_loss=0.000466, val_acc=1.000, train_loss=1.98e-5, train_acc=1.000]\n",
      "Epoch 7:  96%|█████████▌| 1802/1876 [00:19<00:00, 91.33it/s, loss=5.09e-05, v_num=0, val_loss=0.000466, val_acc=1.000, train_loss=1.98e-5, train_acc=1.000]\n",
      "Epoch 7:  98%|█████████▊| 1836/1876 [00:19<00:00, 92.53it/s, loss=5.09e-05, v_num=0, val_loss=0.000466, val_acc=1.000, train_loss=1.98e-5, train_acc=1.000]\n",
      "Epoch 7: 100%|█████████▉| 1870/1876 [00:19<00:00, 93.75it/s, loss=5.09e-05, v_num=0, val_loss=0.000466, val_acc=1.000, train_loss=1.98e-5, train_acc=1.000]\n",
      "Epoch 7: 100%|██████████| 1876/1876 [00:20<00:00, 93.45it/s, loss=5.09e-05, v_num=0, val_loss=0.000113, val_acc=1.000, train_loss=3.36e-5, train_acc=1.000]\n",
      "Epoch 8:  83%|████████▎ | 1564/1876 [00:17<00:03, 91.31it/s, loss=4.61e-05, v_num=0, val_loss=0.000113, val_acc=1.000, train_loss=2.47e-5, train_acc=1.000] \n",
      "Validating: 0it [00:00, ?it/s]\u001b[A\n",
      "Validating:   0%|          | 0/313 [00:00<?, ?it/s]\u001b[A\n",
      "Validating:   0%|          | 1/313 [00:01<08:49,  1.70s/it]\u001b[A\n",
      "Epoch 8:  85%|████████▌ | 1598/1876 [00:18<00:03, 84.16it/s, loss=4.61e-05, v_num=0, val_loss=0.000113, val_acc=1.000, train_loss=2.47e-5, train_acc=1.000]\n",
      "Epoch 8:  87%|████████▋ | 1632/1876 [00:19<00:02, 85.37it/s, loss=4.61e-05, v_num=0, val_loss=0.000113, val_acc=1.000, train_loss=2.47e-5, train_acc=1.000]\n",
      "Validating:  23%|██▎       | 72/313 [00:02<00:03, 69.56it/s]\u001b[A\n",
      "Epoch 8:  89%|████████▉ | 1666/1876 [00:19<00:02, 86.53it/s, loss=4.61e-05, v_num=0, val_loss=0.000113, val_acc=1.000, train_loss=2.47e-5, train_acc=1.000]\n",
      "Epoch 8:  91%|█████████ | 1700/1876 [00:19<00:02, 87.69it/s, loss=4.61e-05, v_num=0, val_loss=0.000113, val_acc=1.000, train_loss=2.47e-5, train_acc=1.000]\n",
      "Epoch 8:  92%|█████████▏| 1734/1876 [00:19<00:01, 88.85it/s, loss=4.61e-05, v_num=0, val_loss=0.000113, val_acc=1.000, train_loss=2.47e-5, train_acc=1.000]\n",
      "Validating:  57%|█████▋    | 177/313 [00:02<00:00, 176.80it/s]\u001b[A\n",
      "Epoch 8:  94%|█████████▍| 1768/1876 [00:19<00:01, 89.95it/s, loss=4.61e-05, v_num=0, val_loss=0.000113, val_acc=1.000, train_loss=2.47e-5, train_acc=1.000]\n",
      "Epoch 8:  96%|█████████▌| 1802/1876 [00:19<00:00, 91.05it/s, loss=4.61e-05, v_num=0, val_loss=0.000113, val_acc=1.000, train_loss=2.47e-5, train_acc=1.000]\n",
      "Epoch 8:  98%|█████████▊| 1836/1876 [00:19<00:00, 92.18it/s, loss=4.61e-05, v_num=0, val_loss=0.000113, val_acc=1.000, train_loss=2.47e-5, train_acc=1.000]\n",
      "Epoch 8: 100%|██████████| 1876/1876 [00:20<00:00, 93.07it/s, loss=4.61e-05, v_num=0, val_loss=0.000122, val_acc=1.000, train_loss=3.68e-5, train_acc=1.000]\n",
      "Epoch 9:  83%|████████▎ | 1564/1876 [00:17<00:03, 91.24it/s, loss=4.25e-05, v_num=0, val_loss=0.000122, val_acc=1.000, train_loss=2.56e-5, train_acc=1.000] \n",
      "Validating: 0it [00:00, ?it/s]\u001b[A\n",
      "Validating:   0%|          | 0/313 [00:00<?, ?it/s]\u001b[A\n",
      "Validating:   0%|          | 1/313 [00:01<09:19,  1.79s/it]\u001b[A\n",
      "Epoch 9:  85%|████████▌ | 1598/1876 [00:19<00:03, 83.81it/s, loss=4.25e-05, v_num=0, val_loss=0.000122, val_acc=1.000, train_loss=2.56e-5, train_acc=1.000]\n",
      "Epoch 9:  87%|████████▋ | 1632/1876 [00:19<00:02, 85.04it/s, loss=4.25e-05, v_num=0, val_loss=0.000122, val_acc=1.000, train_loss=2.56e-5, train_acc=1.000]\n",
      "Epoch 9:  89%|████████▉ | 1666/1876 [00:19<00:02, 86.21it/s, loss=4.25e-05, v_num=0, val_loss=0.000122, val_acc=1.000, train_loss=2.56e-5, train_acc=1.000]\n",
      "Validating:  34%|███▍      | 107/313 [00:02<00:02, 96.81it/s]\u001b[A\n",
      "Epoch 9:  91%|█████████ | 1700/1876 [00:19<00:02, 87.38it/s, loss=4.25e-05, v_num=0, val_loss=0.000122, val_acc=1.000, train_loss=2.56e-5, train_acc=1.000]\n",
      "Epoch 9:  92%|█████████▏| 1734/1876 [00:19<00:01, 88.54it/s, loss=4.25e-05, v_num=0, val_loss=0.000122, val_acc=1.000, train_loss=2.56e-5, train_acc=1.000]\n",
      "Epoch 9:  94%|█████████▍| 1768/1876 [00:19<00:01, 89.69it/s, loss=4.25e-05, v_num=0, val_loss=0.000122, val_acc=1.000, train_loss=2.56e-5, train_acc=1.000]\n",
      "Epoch 9:  96%|█████████▌| 1802/1876 [00:19<00:00, 90.81it/s, loss=4.25e-05, v_num=0, val_loss=0.000122, val_acc=1.000, train_loss=2.56e-5, train_acc=1.000]\n",
      "Validating:  77%|███████▋  | 241/313 [00:02<00:00, 214.33it/s]\u001b[A\n",
      "Epoch 9:  98%|█████████▊| 1836/1876 [00:19<00:00, 91.98it/s, loss=4.25e-05, v_num=0, val_loss=0.000122, val_acc=1.000, train_loss=2.56e-5, train_acc=1.000]\n",
      "Epoch 9: 100%|██████████| 1876/1876 [00:20<00:00, 92.87it/s, loss=4.25e-05, v_num=0, val_loss=0.000109, val_acc=1.000, train_loss=4.46e-5, train_acc=1.000]\n",
      "Epoch 9: 100%|██████████| 1876/1876 [00:20<00:00, 92.78it/s, loss=4.25e-05, v_num=0, val_loss=0.000109, val_acc=1.000, train_loss=4.46e-5, train_acc=1.000]\n"
     ]
    },
    {
     "data": {
      "text/plain": [
       "1"
      ]
     },
     "execution_count": 5,
     "metadata": {},
     "output_type": "execute_result"
    }
   ],
   "source": [
    "# configure logging and checkpoints\n",
    "checkpoint_callback = ModelCheckpoint(\n",
    "    monitor=\"val_loss\",\n",
    "    dirpath=experiment_root / \"patch_model\",\n",
    "    filename=f\"checkpoint.ckpt\",\n",
    "    save_top_k=1,\n",
    "    mode=\"min\",\n",
    ")\n",
    "\n",
    "#early_stop_callback = EarlyStopping(\n",
    "#    monitor='val_accuracy',\n",
    "#    min_delta=0.00,\n",
    "#    patience=5,\n",
    "#    verbose=False,\n",
    "#    mode='max'\n",
    "#)\n",
    "\n",
    "csv_logger = pl_loggers.CSVLogger(experiment_root / 'logs', name='patch_classifier_fake', version=0)\n",
    "\n",
    "# train our model\n",
    "model = Backbone((3, 64, 64), 2)\n",
    "classifier = PatchClassifier(model)\n",
    "trainer = pl.Trainer(callbacks=[checkpoint_callback], log_every_n_steps=50, gpus=1, max_epochs=10, logger=csv_logger, auto_select_gpus=False)\n",
    "trainer.fit(classifier, train_dataloader=train_loader, val_dataloaders=valid_loader)"
   ]
  },
  {
   "cell_type": "code",
   "execution_count": 21,
   "metadata": {},
   "outputs": [
    {
     "name": "stdout",
     "output_type": "stream",
     "text": [
      "Testing: 100%|██████████| 1563/1563 [00:07<00:00, 199.82it/s]\n",
      "--------------------------------------------------------------------------------\n",
      "DATALOADER:0 TEST RESULTS\n",
      "{'test_acc': 0.9999600052833557, 'test_loss': 0.00014884828124195337}\n",
      "--------------------------------------------------------------------------------\n"
     ]
    },
    {
     "data": {
      "text/plain": [
       "[{'test_loss': 0.00014884828124195337, 'test_acc': 0.9999600052833557}]"
      ]
     },
     "execution_count": 21,
     "metadata": {},
     "output_type": "execute_result"
    }
   ],
   "source": [
    "# test\n",
    "test_set = ImageFolder(experiment_root / 'camelyon16_patches/test', transform=transform)\n",
    "test_loader = DataLoader(train_set, batch_size=batch_size, worker_init_fn=np.random.seed(global_seed), num_workers=32)\n",
    "trainer.test(test_dataloaders=test_loader)"
   ]
  },
  {
   "cell_type": "code",
   "execution_count": 7,
   "metadata": {},
   "outputs": [
    {
     "data": {
      "text/plain": [
       "20000"
      ]
     },
     "execution_count": 7,
     "metadata": {},
     "output_type": "execute_result"
    }
   ],
   "source": [
    "len(test_set)"
   ]
  },
  {
   "cell_type": "code",
   "execution_count": 8,
   "metadata": {},
   "outputs": [
    {
     "data": {
      "text/html": [
       "<div>\n",
       "<style scoped>\n",
       "    .dataframe tbody tr th:only-of-type {\n",
       "        vertical-align: middle;\n",
       "    }\n",
       "\n",
       "    .dataframe tbody tr th {\n",
       "        vertical-align: top;\n",
       "    }\n",
       "\n",
       "    .dataframe thead th {\n",
       "        text-align: right;\n",
       "    }\n",
       "</style>\n",
       "<table border=\"1\" class=\"dataframe\">\n",
       "  <thead>\n",
       "    <tr style=\"text-align: right;\">\n",
       "      <th></th>\n",
       "      <th>train_loss</th>\n",
       "      <th>train_acc</th>\n",
       "      <th>epoch</th>\n",
       "      <th>step</th>\n",
       "      <th>val_loss</th>\n",
       "      <th>val_acc</th>\n",
       "      <th>test_loss</th>\n",
       "      <th>test_acc</th>\n",
       "    </tr>\n",
       "  </thead>\n",
       "  <tbody>\n",
       "    <tr>\n",
       "      <th>0</th>\n",
       "      <td>0.663702</td>\n",
       "      <td>0.56250</td>\n",
       "      <td>0</td>\n",
       "      <td>49</td>\n",
       "      <td>NaN</td>\n",
       "      <td>NaN</td>\n",
       "      <td>NaN</td>\n",
       "      <td>NaN</td>\n",
       "    </tr>\n",
       "    <tr>\n",
       "      <th>1</th>\n",
       "      <td>0.633575</td>\n",
       "      <td>0.68750</td>\n",
       "      <td>0</td>\n",
       "      <td>99</td>\n",
       "      <td>NaN</td>\n",
       "      <td>NaN</td>\n",
       "      <td>NaN</td>\n",
       "      <td>NaN</td>\n",
       "    </tr>\n",
       "    <tr>\n",
       "      <th>2</th>\n",
       "      <td>0.234382</td>\n",
       "      <td>0.90625</td>\n",
       "      <td>0</td>\n",
       "      <td>149</td>\n",
       "      <td>NaN</td>\n",
       "      <td>NaN</td>\n",
       "      <td>NaN</td>\n",
       "      <td>NaN</td>\n",
       "    </tr>\n",
       "    <tr>\n",
       "      <th>3</th>\n",
       "      <td>0.245373</td>\n",
       "      <td>0.93750</td>\n",
       "      <td>0</td>\n",
       "      <td>199</td>\n",
       "      <td>NaN</td>\n",
       "      <td>NaN</td>\n",
       "      <td>NaN</td>\n",
       "      <td>NaN</td>\n",
       "    </tr>\n",
       "    <tr>\n",
       "      <th>4</th>\n",
       "      <td>0.004402</td>\n",
       "      <td>1.00000</td>\n",
       "      <td>0</td>\n",
       "      <td>249</td>\n",
       "      <td>NaN</td>\n",
       "      <td>NaN</td>\n",
       "      <td>NaN</td>\n",
       "      <td>NaN</td>\n",
       "    </tr>\n",
       "    <tr>\n",
       "      <th>...</th>\n",
       "      <td>...</td>\n",
       "      <td>...</td>\n",
       "      <td>...</td>\n",
       "      <td>...</td>\n",
       "      <td>...</td>\n",
       "      <td>...</td>\n",
       "      <td>...</td>\n",
       "      <td>...</td>\n",
       "    </tr>\n",
       "    <tr>\n",
       "      <th>318</th>\n",
       "      <td>0.000453</td>\n",
       "      <td>1.00000</td>\n",
       "      <td>9</td>\n",
       "      <td>15499</td>\n",
       "      <td>NaN</td>\n",
       "      <td>NaN</td>\n",
       "      <td>NaN</td>\n",
       "      <td>NaN</td>\n",
       "    </tr>\n",
       "    <tr>\n",
       "      <th>319</th>\n",
       "      <td>0.000398</td>\n",
       "      <td>1.00000</td>\n",
       "      <td>9</td>\n",
       "      <td>15549</td>\n",
       "      <td>NaN</td>\n",
       "      <td>NaN</td>\n",
       "      <td>NaN</td>\n",
       "      <td>NaN</td>\n",
       "    </tr>\n",
       "    <tr>\n",
       "      <th>320</th>\n",
       "      <td>0.000005</td>\n",
       "      <td>1.00000</td>\n",
       "      <td>9</td>\n",
       "      <td>15599</td>\n",
       "      <td>NaN</td>\n",
       "      <td>NaN</td>\n",
       "      <td>NaN</td>\n",
       "      <td>NaN</td>\n",
       "    </tr>\n",
       "    <tr>\n",
       "      <th>321</th>\n",
       "      <td>NaN</td>\n",
       "      <td>NaN</td>\n",
       "      <td>9</td>\n",
       "      <td>15629</td>\n",
       "      <td>0.000109</td>\n",
       "      <td>1.0</td>\n",
       "      <td>NaN</td>\n",
       "      <td>NaN</td>\n",
       "    </tr>\n",
       "    <tr>\n",
       "      <th>322</th>\n",
       "      <td>NaN</td>\n",
       "      <td>NaN</td>\n",
       "      <td>9</td>\n",
       "      <td>15630</td>\n",
       "      <td>NaN</td>\n",
       "      <td>NaN</td>\n",
       "      <td>0.000149</td>\n",
       "      <td>0.99996</td>\n",
       "    </tr>\n",
       "  </tbody>\n",
       "</table>\n",
       "<p>323 rows × 8 columns</p>\n",
       "</div>"
      ],
      "text/plain": [
       "     train_loss  train_acc  epoch   step  val_loss  val_acc  test_loss  \\\n",
       "0      0.663702    0.56250      0     49       NaN      NaN        NaN   \n",
       "1      0.633575    0.68750      0     99       NaN      NaN        NaN   \n",
       "2      0.234382    0.90625      0    149       NaN      NaN        NaN   \n",
       "3      0.245373    0.93750      0    199       NaN      NaN        NaN   \n",
       "4      0.004402    1.00000      0    249       NaN      NaN        NaN   \n",
       "..          ...        ...    ...    ...       ...      ...        ...   \n",
       "318    0.000453    1.00000      9  15499       NaN      NaN        NaN   \n",
       "319    0.000398    1.00000      9  15549       NaN      NaN        NaN   \n",
       "320    0.000005    1.00000      9  15599       NaN      NaN        NaN   \n",
       "321         NaN        NaN      9  15629  0.000109      1.0        NaN   \n",
       "322         NaN        NaN      9  15630       NaN      NaN   0.000149   \n",
       "\n",
       "     test_acc  \n",
       "0         NaN  \n",
       "1         NaN  \n",
       "2         NaN  \n",
       "3         NaN  \n",
       "4         NaN  \n",
       "..        ...  \n",
       "318       NaN  \n",
       "319       NaN  \n",
       "320       NaN  \n",
       "321       NaN  \n",
       "322   0.99996  \n",
       "\n",
       "[323 rows x 8 columns]"
      ]
     },
     "execution_count": 8,
     "metadata": {},
     "output_type": "execute_result"
    }
   ],
   "source": [
    "import pandas as pd\n",
    "\n",
    "log_df = pd.read_csv(experiment_root / 'logs/patch_classifier_fake/version_0/metrics.csv')\n",
    "log_df"
   ]
  },
  {
   "cell_type": "code",
   "execution_count": 9,
   "metadata": {},
   "outputs": [
    {
     "data": {
      "text/plain": [
       "31     0.003147\n",
       "63     0.001766\n",
       "95     0.000327\n",
       "128    0.000420\n",
       "160    0.000109\n",
       "192    0.000115\n",
       "224    0.000466\n",
       "257    0.000113\n",
       "289    0.000122\n",
       "321    0.000109\n",
       "Name: val_loss, dtype: float64"
      ]
     },
     "execution_count": 9,
     "metadata": {},
     "output_type": "execute_result"
    }
   ],
   "source": [
    "log_df['val_loss'].dropna()"
   ]
  },
  {
   "cell_type": "code",
   "execution_count": 16,
   "metadata": {},
   "outputs": [
    {
     "data": {
      "text/plain": [
       "Text(0, 0.5, 'loss')"
      ]
     },
     "execution_count": 16,
     "metadata": {},
     "output_type": "execute_result"
    },
    {
     "data": {
      "image/png": "[encoded data removed]",
      "text/plain": [
       "<Figure size 432x288 with 1 Axes>"
      ]
     },
     "metadata": {
      "needs_background": "light"
     },
     "output_type": "display_data"
    }
   ],
   "source": [
    "%matplotlib inline\n",
    "ax = log_df[['train_loss','step']].plot(x='step', title='Patch Classifier Fake Data Training Loss')\n",
    "ax.set_ylabel('loss')"
   ]
  },
  {
   "cell_type": "code",
   "execution_count": 19,
   "metadata": {},
   "outputs": [
    {
     "data": {
      "text/plain": [
       "Text(0, 0.5, 'loss')"
      ]
     },
     "execution_count": 19,
     "metadata": {},
     "output_type": "execute_result"
    },
    {
     "data": {
      "image/png": "[encoded data removed]",
      "text/plain": [
       "<Figure size 432x288 with 1 Axes>"
      ]
     },
     "metadata": {
      "needs_background": "light"
     },
     "output_type": "display_data"
    }
   ],
   "source": [
    "ax = log_df[['train_acc','step']].plot(x='step', title='Patch Classifier Fake Data Training Accuracy')\n",
    "ax.set_ylabel('loss')"
   ]
  },
  {
   "cell_type": "code",
   "execution_count": 12,
   "metadata": {},
   "outputs": [],
   "source": [
    "len(classifier.test_pred), len(classifier.test_y)\n",
    "expected = [x for xs in classifier.test_y for x in xs]\n",
    "predicted = [x for xs in classifier.test_pred for x in xs] "
   ]
  },
  {
   "cell_type": "code",
   "execution_count": 13,
   "metadata": {
    "scrolled": false
   },
   "outputs": [
    {
     "name": "stdout",
     "output_type": "stream",
     "text": [
      "              precision    recall  f1-score   support\n",
      "\n",
      "      normal       1.00      1.00      1.00     24932\n",
      "       tumor       1.00      1.00      1.00     25068\n",
      "\n",
      "    accuracy                           1.00     50000\n",
      "   macro avg       1.00      1.00      1.00     50000\n",
      "weighted avg       1.00      1.00      1.00     50000\n",
      "\n"
     ]
    },
    {
     "data": {
      "image/png": "[encoded data removed]",
      "text/plain": [
       "<Figure size 432x288 with 2 Axes>"
      ]
     },
     "metadata": {
      "needs_background": "light"
     },
     "output_type": "display_data"
    }
   ],
   "source": [
    "import seaborn as sns\n",
    "from sklearn import metrics\n",
    "import matplotlib.pyplot as plt\n",
    "\n",
    "print(metrics.classification_report(expected, predicted, labels=[0, 1], target_names=['normal', 'tumor']))\n",
    "\n",
    "cm = metrics.confusion_matrix(expected, predicted)\n",
    "\n",
    "ax = plt.subplot()\n",
    "sns.heatmap(cm, annot=True, ax = ax, fmt='g', cmap='Blues');\n",
    "\n",
    "# labels, title and ticks\n",
    "ax.set_xlabel('Predicted labels');\n",
    "ax.set_ylabel('True labels'); \n",
    "ax.set_title('Confusion Matrix'); \n",
    "ax.xaxis.set_ticklabels(['normal', 'tumor']); ax.yaxis.set_ticklabels(['normal', 'tumor']);"
   ]
  },
  {
   "cell_type": "code",
   "execution_count": null,
   "metadata": {},
   "outputs": [],
   "source": []
  }
 ],
 "metadata": {
  "kernelspec": {
   "display_name": "pathgen",
   "language": "python",
   "name": "pathgen"
  },
  "language_info": {
   "codemirror_mode": {
    "name": "ipython",
    "version": 3
   },
   "file_extension": ".py",
   "mimetype": "text/x-python",
   "name": "python",
   "nbconvert_exporter": "python",
   "pygments_lexer": "ipython3",
   "version": "3.6.10"
  }
 },
 "nbformat": 4,
 "nbformat_minor": 4
}
